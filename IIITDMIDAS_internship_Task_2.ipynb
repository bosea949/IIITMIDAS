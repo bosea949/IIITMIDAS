{
  "nbformat": 4,
  "nbformat_minor": 0,
  "metadata": {
    "accelerator": "GPU",
    "colab": {
      "name": "IIITDMIDAS internship Task 2.ipynb",
      "provenance": [],
      "collapsed_sections": [],
      "toc_visible": true
    },
    "kernelspec": {
      "display_name": "Python 3",
      "name": "python3"
    },
    "language_info": {
      "name": "python"
    }
  },
  "cells": [
    {
      "cell_type": "code",
      "metadata": {
        "colab": {
          "base_uri": "https://localhost:8080/"
        },
        "id": "qjhpv9PTcyIp",
        "outputId": "5891786b-c86b-4456-f64d-89faed72aa54"
      },
      "source": [
        "from google.colab import drive\n",
        "drive.mount(\"content/\")"
      ],
      "execution_count": 62,
      "outputs": [
        {
          "output_type": "stream",
          "text": [
            "Drive already mounted at content/; to attempt to forcibly remount, call drive.mount(\"content/\", force_remount=True).\n"
          ],
          "name": "stdout"
        }
      ]
    },
    {
      "cell_type": "markdown",
      "metadata": {
        "id": "QlXqhSoVF8TQ"
      },
      "source": [
        "# Imports"
      ]
    },
    {
      "cell_type": "code",
      "metadata": {
        "id": "7iCLUg5Yc0Pf"
      },
      "source": [
        "import numpy as np\n",
        "import pickle\n",
        "from sklearn.preprocessing import LabelEncoder\n",
        "from sklearn import metrics\n",
        "from sklearn.metrics import accuracy_score,f1_score, precision_score, recall_score, confusion_matrix\n",
        "import random\n",
        "from random import sample\n",
        "\n",
        "\n",
        "import os.path as osp\n",
        "import glob\n",
        "from random import shuffle\n",
        "\n",
        "import cv2 as cv\n",
        "from google.colab.patches import cv2_imshow\n",
        "\n",
        "\n",
        "import keras\n",
        "from keras.models import load_model\n",
        "from keras.datasets import mnist\n",
        "from keras.models import Sequential\n",
        "from keras.layers import Dense, Dropout, Flatten\n",
        "from keras.layers import Conv2D, MaxPooling2D, MaxPooling2D,GlobalMaxPooling2D\n",
        "from keras import backend as K\n",
        "from sklearn.metrics import classification_report,confusion_matrix\n",
        "from keras.callbacks import ModelCheckpoint\n",
        "from keras.layers.advanced_activations import LeakyReLU\n",
        "\n",
        "\n",
        "import matplotlib.pyplot as plt\n"
      ],
      "execution_count": 63,
      "outputs": []
    },
    {
      "cell_type": "markdown",
      "metadata": {
        "id": "2z2qD3rOFehQ"
      },
      "source": [
        "### Get the image paths and the corresponding labels of the images in the path"
      ]
    },
    {
      "cell_type": "code",
      "metadata": {
        "id": "HvEuFhFtc186"
      },
      "source": [
        "def get_image_paths(data_path, categories, num_train_per_cat, fmt):\n",
        "  \"\"\"\n",
        "      Parameters:\n",
        "        param data_path: path to the 'test' and 'train' directories\n",
        "        param categories: list of category names\n",
        "        param num_train_per_cat: max number of training images to use (per category)\n",
        "        param fmt: file extension of the images\n",
        "        return: lists: train_image_paths, test_image_paths, train_labels, test_labels\n",
        "  \"\"\"\n",
        "  train_image_paths = []\n",
        "  test_image_paths = []\n",
        "  train_labels = []\n",
        "  test_labels = []\n",
        "\n",
        "  for cat in categories:\n",
        "    \n",
        "    pth = osp.join(data_path,cat, '*{:s}'.format(fmt))\n",
        "    pth = glob.glob(pth,recursive = True)\n",
        "    shuffle(pth)\n",
        "    train_pth = pth[:int(num_train_per_cat*len(pth))]\n",
        "    test_pth = pth[int(num_train_per_cat*len(pth)):]\n",
        "\n",
        "    train_image_paths.extend(train_pth)\n",
        "    train_labels.extend([cat]*len(train_pth))\n",
        "    test_image_paths.extend(test_pth)\n",
        "    test_labels.extend([cat]*len(test_pth))\n",
        "\n",
        "  return train_image_paths, test_image_paths, train_labels, test_labels\n"
      ],
      "execution_count": 64,
      "outputs": []
    },
    {
      "cell_type": "markdown",
      "metadata": {
        "id": "TQq8A5sFGprA"
      },
      "source": [
        "## Gets images from paths"
      ]
    },
    {
      "cell_type": "code",
      "metadata": {
        "id": "A_Sbt2UjUugP"
      },
      "source": [
        "def get_images(paths):\n",
        "  images=[]\n",
        "  for path in paths:\n",
        "    images.append(cv.imread(path,0))\n",
        "  \n",
        "  return images\n"
      ],
      "execution_count": 65,
      "outputs": []
    },
    {
      "cell_type": "markdown",
      "metadata": {
        "id": "ISfbNJi5Gs-4"
      },
      "source": [
        "## Resize images"
      ]
    },
    {
      "cell_type": "code",
      "metadata": {
        "id": "tjMH5fUVVCZP"
      },
      "source": [
        "def resize_images(images,image_size):\n",
        "  for i in range(len(images)):\n",
        "   images[i]=cv.resize(images[i],(image_size,image_size))\n",
        "  return images"
      ],
      "execution_count": 66,
      "outputs": []
    },
    {
      "cell_type": "markdown",
      "metadata": {
        "id": "C7nfE3bwGv6_"
      },
      "source": [
        "## Get the categories of task1test"
      ]
    },
    {
      "cell_type": "code",
      "metadata": {
        "id": "JNqlEaGMu_qy"
      },
      "source": [
        "def get_categories_task1test(numberoflabels):\n",
        "  categories = []\n",
        "  for i in range(1,numberoflabels+1):\n",
        "    if i <10:\n",
        "      string=\"\".join(['Sample00',str(i)])\n",
        "    else:\n",
        "      string=\"\".join(['Sample0',str(i)])\n",
        "    categories.append(string)\n",
        "  return categories"
      ],
      "execution_count": 67,
      "outputs": []
    },
    {
      "cell_type": "markdown",
      "metadata": {
        "id": "WdjLW4bcG3dT"
      },
      "source": [
        "### The below function transforms the images from standard Mnist data set where the background is in black and the digits are written in white which is in contrary to the images provided in task, into images where background is white and the numbers are written in black so that the given images and mnist imageshave the same background and font colour whenever we need to use the Mnist  data  with given data."
      ]
    },
    {
      "cell_type": "code",
      "metadata": {
        "id": "h5IYDacRL6ec"
      },
      "source": [
        "def transform_test(images):\n",
        "  for image in images:\n",
        "    for i in range(image.shape[0]):\n",
        "      for j in range(image.shape[1]):\n",
        "        image[i][j]=255-image[i][j]\n",
        "  return images"
      ],
      "execution_count": 68,
      "outputs": []
    },
    {
      "cell_type": "markdown",
      "metadata": {
        "id": "6Yx5_34zHUZq"
      },
      "source": [
        "## One hot encoding of categories"
      ]
    },
    {
      "cell_type": "code",
      "metadata": {
        "id": "klcb8KuSM54Z"
      },
      "source": [
        "def transform_categories(data,categories,numoflabels):\n",
        "  \"\"\"\n",
        "    Parameters:\n",
        "      data: The concerned data\n",
        "      categories: classes in the data\n",
        "      numoflabels\n",
        "        \n",
        "\n",
        "  \"\"\"\n",
        "  labelencoder = LabelEncoder()\n",
        "  labelencoder.fit(categories)\n",
        "  data=labelencoder.transform(data)\n",
        "  data = keras.utils.to_categorical(data, numoflabels)\n",
        "\n",
        "  return data"
      ],
      "execution_count": 69,
      "outputs": []
    },
    {
      "cell_type": "markdown",
      "metadata": {
        "id": "Xdlj3JEihHX1"
      },
      "source": [
        "### Normalize and Reshape the input data"
      ]
    },
    {
      "cell_type": "code",
      "metadata": {
        "id": "L5Kd23TNgdvk"
      },
      "source": [
        "def normalize_reshape(data):\n",
        "  \"\"\"\n",
        "    Parameters:\n",
        "      data: The concerned data\n",
        "  \"\"\"\n",
        "  data=np.asarray(data)/255\n",
        "  data=data.reshape(-1, data.shape[1], data.shape[2], 1).astype('float32')\n",
        "  return data"
      ],
      "execution_count": 70,
      "outputs": []
    },
    {
      "cell_type": "markdown",
      "metadata": {
        "id": "WV9Ws29HHX52"
      },
      "source": [
        "### I have used the below model through out the experiments\n"
      ]
    },
    {
      "cell_type": "code",
      "metadata": {
        "id": "y6Pq6aDgwMfc"
      },
      "source": [
        "def  get_model(input_size,num_classes,adam_alpha):\n",
        "  \"\"\"\n",
        "      Parameters:\n",
        "        input_size:  tuple consisiting of the shape of each image matrix\n",
        "        num_classes: Number of classes to classify\n",
        "        adam_alpha:  Parameter for the otpimizer\n",
        "\n",
        "  \"\"\"\n",
        "\n",
        "  model = Sequential()\n",
        "  model.add(Conv2D(32,(5,5),padding='same',activation='relu',input_shape=(input_size[0],input_size[1],1)))\n",
        "  model.add(LeakyReLU(alpha=.2))\n",
        "  model.add(MaxPooling2D(pool_size=(2,2)))\n",
        "  model.add(Dropout(.2))\n",
        "  model.add(Conv2D(128,(5,5)))\n",
        "  model.add(LeakyReLU(alpha=.2))    \n",
        "  model.add(MaxPooling2D(pool_size=(2,2)))\n",
        "  model.add(Dropout(.2))\n",
        "  model.add(GlobalMaxPooling2D())   \n",
        "  model.add(Dense(512))\n",
        "  model.add(LeakyReLU(alpha=.2))\n",
        "  model.add(Dropout(.2))\n",
        "  model.add(Dense(512))\n",
        "  model.add(LeakyReLU(alpha=.2))\n",
        "  model.add(Dropout(.2))      \n",
        "  model.add(Dense(num_classes, activation='softmax'))\n",
        "  model.compile(loss=keras.losses.categorical_crossentropy,optimizer=keras.optimizers.Adam(adam_alpha),metrics=['accuracy'])\n",
        "\n",
        "  return model"
      ],
      "execution_count": 71,
      "outputs": []
    },
    {
      "cell_type": "markdown",
      "metadata": {
        "id": "Z5YcVfHDdDEI"
      },
      "source": [
        "# Experiments:"
      ]
    },
    {
      "cell_type": "markdown",
      "metadata": {
        "id": "Y5yLBAMsXwjj"
      },
      "source": [
        "# Part 1"
      ]
    },
    {
      "cell_type": "code",
      "metadata": {
        "id": "VeZ76yjbc2RS"
      },
      "source": [
        "categories=get_categories_task1test(62)# Getting the 62 categroies"
      ],
      "execution_count": 72,
      "outputs": []
    },
    {
      "cell_type": "code",
      "metadata": {
        "id": "-Ek7pNs5c33v"
      },
      "source": [
        "data_path = osp.join(\"/content/content/MyDrive/Data/IITMIDAS/mnistTask3/Task1 test/train/\")\n"
      ],
      "execution_count": 73,
      "outputs": []
    },
    {
      "cell_type": "code",
      "metadata": {
        "colab": {
          "base_uri": "https://localhost:8080/",
          "height": 35
        },
        "id": "3qrc_BkFc5SE",
        "outputId": "6608d4ec-1c78-481f-ba02-226302bae94f"
      },
      "source": [
        "data_path"
      ],
      "execution_count": 74,
      "outputs": [
        {
          "output_type": "execute_result",
          "data": {
            "application/vnd.google.colaboratory.intrinsic+json": {
              "type": "string"
            },
            "text/plain": [
              "'/content/content/MyDrive/Data/IITMIDAS/mnistTask3/Task1 test/train/'"
            ]
          },
          "metadata": {
            "tags": []
          },
          "execution_count": 74
        }
      ]
    },
    {
      "cell_type": "code",
      "metadata": {
        "id": "rxMeMSHOc5VT"
      },
      "source": [
        "num_train_per_cat = 0.8"
      ],
      "execution_count": 75,
      "outputs": []
    },
    {
      "cell_type": "code",
      "metadata": {
        "id": "giAi6fLEc8Ze"
      },
      "source": [
        "train_image_paths, test_image_paths, train_labels, test_labels = get_image_paths(data_path,categories,num_train_per_cat,'.png')"
      ],
      "execution_count": 76,
      "outputs": []
    },
    {
      "cell_type": "code",
      "metadata": {
        "id": "JhF1X0byNiKF"
      },
      "source": [
        "train_labels=transform_categories(train_labels,categories,62)\n",
        "test_labels=transform_categories(test_labels,categories,62)"
      ],
      "execution_count": 86,
      "outputs": []
    },
    {
      "cell_type": "code",
      "metadata": {
        "id": "I4KpI-NWc8i-"
      },
      "source": [
        "train_images=get_images(train_image_paths)\n",
        "\n",
        "train_images=resize_images(train_images,224)"
      ],
      "execution_count": 87,
      "outputs": []
    },
    {
      "cell_type": "code",
      "metadata": {
        "id": "91Ad4BPfjDjD"
      },
      "source": [
        "train_images=normalize_reshape(train_images)"
      ],
      "execution_count": 88,
      "outputs": []
    },
    {
      "cell_type": "code",
      "metadata": {
        "colab": {
          "base_uri": "https://localhost:8080/"
        },
        "id": "0QRUXcg7klsd",
        "outputId": "0bbebf61-8191-4173-c757-0ff69e69bbda"
      },
      "source": [
        "train_images.shape"
      ],
      "execution_count": 89,
      "outputs": [
        {
          "output_type": "execute_result",
          "data": {
            "text/plain": [
              "(1984, 224, 224, 1)"
            ]
          },
          "metadata": {
            "tags": []
          },
          "execution_count": 89
        }
      ]
    },
    {
      "cell_type": "code",
      "metadata": {
        "id": "8kotRRAYdv0p"
      },
      "source": [
        "test_images=get_images(test_image_paths)\n",
        "\n",
        "test_images=resize_images(test_images,224)\n"
      ],
      "execution_count": 90,
      "outputs": []
    },
    {
      "cell_type": "code",
      "metadata": {
        "id": "hFQWhHQ1dv4l"
      },
      "source": [
        "test_images=normalize_reshape(test_images)"
      ],
      "execution_count": 91,
      "outputs": []
    },
    {
      "cell_type": "code",
      "metadata": {
        "colab": {
          "base_uri": "https://localhost:8080/"
        },
        "id": "MRTEeEM0kiBB",
        "outputId": "b6aa3317-31c0-414c-8275-a6bcd9e71f16"
      },
      "source": [
        "test_images.shape"
      ],
      "execution_count": 92,
      "outputs": [
        {
          "output_type": "execute_result",
          "data": {
            "text/plain": [
              "(496, 224, 224, 1)"
            ]
          },
          "metadata": {
            "tags": []
          },
          "execution_count": 92
        }
      ]
    },
    {
      "cell_type": "code",
      "metadata": {
        "id": "i1dd-y7ydv_P"
      },
      "source": [
        "model = get_model((224,224),62,0.001)"
      ],
      "execution_count": 93,
      "outputs": []
    },
    {
      "cell_type": "code",
      "metadata": {
        "id": "Gf7moIIodwCg",
        "colab": {
          "base_uri": "https://localhost:8080/"
        },
        "outputId": "72e18c50-2f62-4879-b795-21b74b3f2a56"
      },
      "source": [
        "checkpoint = ModelCheckpoint(filepath=\"/content/content/MyDrive/Data/IITMIDAS/mnistTask3/Task1 test/train/checkpoint.hdf5\", monitor='val_accuracy', verbose=1,save_best_only=True, save_weights_only=True, mode='max')\n",
        "history = model.fit(train_images,train_labels,epochs = 50 , validation_data = (test_images,test_labels),batch_size=10,shuffle=True,callbacks=[checkpoint])"
      ],
      "execution_count": 94,
      "outputs": [
        {
          "output_type": "stream",
          "text": [
            "Epoch 1/50\n",
            "199/199 [==============================] - 7s 32ms/step - loss: 4.1479 - accuracy: 0.0216 - val_loss: 4.1206 - val_accuracy: 0.0383\n",
            "\n",
            "Epoch 00001: val_accuracy improved from -inf to 0.03831, saving model to /content/content/MyDrive/Data/IITMIDAS/mnistTask3/Task1 test/train/checkpoint.hdf5\n",
            "Epoch 2/50\n",
            "199/199 [==============================] - 6s 31ms/step - loss: 3.9606 - accuracy: 0.0368 - val_loss: 3.3112 - val_accuracy: 0.0948\n",
            "\n",
            "Epoch 00002: val_accuracy improved from 0.03831 to 0.09476, saving model to /content/content/MyDrive/Data/IITMIDAS/mnistTask3/Task1 test/train/checkpoint.hdf5\n",
            "Epoch 3/50\n",
            "199/199 [==============================] - 6s 31ms/step - loss: 3.0759 - accuracy: 0.1440 - val_loss: 2.3652 - val_accuracy: 0.3226\n",
            "\n",
            "Epoch 00003: val_accuracy improved from 0.09476 to 0.32258, saving model to /content/content/MyDrive/Data/IITMIDAS/mnistTask3/Task1 test/train/checkpoint.hdf5\n",
            "Epoch 4/50\n",
            "199/199 [==============================] - 6s 31ms/step - loss: 2.1204 - accuracy: 0.3260 - val_loss: 1.7555 - val_accuracy: 0.4617\n",
            "\n",
            "Epoch 00004: val_accuracy improved from 0.32258 to 0.46169, saving model to /content/content/MyDrive/Data/IITMIDAS/mnistTask3/Task1 test/train/checkpoint.hdf5\n",
            "Epoch 5/50\n",
            "199/199 [==============================] - 6s 31ms/step - loss: 1.6595 - accuracy: 0.4806 - val_loss: 1.4929 - val_accuracy: 0.5202\n",
            "\n",
            "Epoch 00005: val_accuracy improved from 0.46169 to 0.52016, saving model to /content/content/MyDrive/Data/IITMIDAS/mnistTask3/Task1 test/train/checkpoint.hdf5\n",
            "Epoch 6/50\n",
            "199/199 [==============================] - 6s 31ms/step - loss: 1.3301 - accuracy: 0.5723 - val_loss: 1.3701 - val_accuracy: 0.5746\n",
            "\n",
            "Epoch 00006: val_accuracy improved from 0.52016 to 0.57460, saving model to /content/content/MyDrive/Data/IITMIDAS/mnistTask3/Task1 test/train/checkpoint.hdf5\n",
            "Epoch 7/50\n",
            "199/199 [==============================] - 6s 31ms/step - loss: 1.1887 - accuracy: 0.6067 - val_loss: 1.2813 - val_accuracy: 0.5746\n",
            "\n",
            "Epoch 00007: val_accuracy did not improve from 0.57460\n",
            "Epoch 8/50\n",
            "199/199 [==============================] - 6s 31ms/step - loss: 1.1320 - accuracy: 0.6339 - val_loss: 1.2085 - val_accuracy: 0.6270\n",
            "\n",
            "Epoch 00008: val_accuracy improved from 0.57460 to 0.62702, saving model to /content/content/MyDrive/Data/IITMIDAS/mnistTask3/Task1 test/train/checkpoint.hdf5\n",
            "Epoch 9/50\n",
            "199/199 [==============================] - 6s 31ms/step - loss: 0.9749 - accuracy: 0.6561 - val_loss: 1.2095 - val_accuracy: 0.6270\n",
            "\n",
            "Epoch 00009: val_accuracy did not improve from 0.62702\n",
            "Epoch 10/50\n",
            "199/199 [==============================] - 6s 31ms/step - loss: 0.9139 - accuracy: 0.6655 - val_loss: 1.1267 - val_accuracy: 0.6391\n",
            "\n",
            "Epoch 00010: val_accuracy improved from 0.62702 to 0.63911, saving model to /content/content/MyDrive/Data/IITMIDAS/mnistTask3/Task1 test/train/checkpoint.hdf5\n",
            "Epoch 11/50\n",
            "199/199 [==============================] - 6s 31ms/step - loss: 0.8670 - accuracy: 0.6966 - val_loss: 1.1266 - val_accuracy: 0.6452\n",
            "\n",
            "Epoch 00011: val_accuracy improved from 0.63911 to 0.64516, saving model to /content/content/MyDrive/Data/IITMIDAS/mnistTask3/Task1 test/train/checkpoint.hdf5\n",
            "Epoch 12/50\n",
            "199/199 [==============================] - 6s 31ms/step - loss: 0.8092 - accuracy: 0.7160 - val_loss: 1.1785 - val_accuracy: 0.6129\n",
            "\n",
            "Epoch 00012: val_accuracy did not improve from 0.64516\n",
            "Epoch 13/50\n",
            "199/199 [==============================] - 6s 31ms/step - loss: 0.8269 - accuracy: 0.7181 - val_loss: 1.1410 - val_accuracy: 0.6391\n",
            "\n",
            "Epoch 00013: val_accuracy did not improve from 0.64516\n",
            "Epoch 14/50\n",
            "199/199 [==============================] - 6s 31ms/step - loss: 0.7259 - accuracy: 0.7539 - val_loss: 1.0383 - val_accuracy: 0.6714\n",
            "\n",
            "Epoch 00014: val_accuracy improved from 0.64516 to 0.67137, saving model to /content/content/MyDrive/Data/IITMIDAS/mnistTask3/Task1 test/train/checkpoint.hdf5\n",
            "Epoch 15/50\n",
            "199/199 [==============================] - 6s 31ms/step - loss: 0.7159 - accuracy: 0.7677 - val_loss: 1.0665 - val_accuracy: 0.6673\n",
            "\n",
            "Epoch 00015: val_accuracy did not improve from 0.67137\n",
            "Epoch 16/50\n",
            "199/199 [==============================] - 6s 31ms/step - loss: 0.6508 - accuracy: 0.7725 - val_loss: 1.0730 - val_accuracy: 0.6815\n",
            "\n",
            "Epoch 00016: val_accuracy improved from 0.67137 to 0.68145, saving model to /content/content/MyDrive/Data/IITMIDAS/mnistTask3/Task1 test/train/checkpoint.hdf5\n",
            "Epoch 17/50\n",
            "199/199 [==============================] - 6s 31ms/step - loss: 0.6551 - accuracy: 0.7517 - val_loss: 1.0756 - val_accuracy: 0.6552\n",
            "\n",
            "Epoch 00017: val_accuracy did not improve from 0.68145\n",
            "Epoch 18/50\n",
            "199/199 [==============================] - 6s 31ms/step - loss: 0.6335 - accuracy: 0.7814 - val_loss: 1.0662 - val_accuracy: 0.6714\n",
            "\n",
            "Epoch 00018: val_accuracy did not improve from 0.68145\n",
            "Epoch 19/50\n",
            "199/199 [==============================] - 6s 31ms/step - loss: 0.5681 - accuracy: 0.7947 - val_loss: 1.0601 - val_accuracy: 0.6633\n",
            "\n",
            "Epoch 00019: val_accuracy did not improve from 0.68145\n",
            "Epoch 20/50\n",
            "199/199 [==============================] - 6s 31ms/step - loss: 0.5726 - accuracy: 0.7819 - val_loss: 1.1690 - val_accuracy: 0.6512\n",
            "\n",
            "Epoch 00020: val_accuracy did not improve from 0.68145\n",
            "Epoch 21/50\n",
            "199/199 [==============================] - 6s 31ms/step - loss: 0.5429 - accuracy: 0.8098 - val_loss: 1.0264 - val_accuracy: 0.6835\n",
            "\n",
            "Epoch 00021: val_accuracy improved from 0.68145 to 0.68347, saving model to /content/content/MyDrive/Data/IITMIDAS/mnistTask3/Task1 test/train/checkpoint.hdf5\n",
            "Epoch 22/50\n",
            "199/199 [==============================] - 6s 32ms/step - loss: 0.5651 - accuracy: 0.8073 - val_loss: 1.0512 - val_accuracy: 0.6552\n",
            "\n",
            "Epoch 00022: val_accuracy did not improve from 0.68347\n",
            "Epoch 23/50\n",
            "199/199 [==============================] - 6s 31ms/step - loss: 0.5180 - accuracy: 0.8159 - val_loss: 1.0750 - val_accuracy: 0.6754\n",
            "\n",
            "Epoch 00023: val_accuracy did not improve from 0.68347\n",
            "Epoch 24/50\n",
            "199/199 [==============================] - 6s 31ms/step - loss: 0.4685 - accuracy: 0.8406 - val_loss: 1.1249 - val_accuracy: 0.6835\n",
            "\n",
            "Epoch 00024: val_accuracy did not improve from 0.68347\n",
            "Epoch 25/50\n",
            "199/199 [==============================] - 6s 31ms/step - loss: 0.5120 - accuracy: 0.8127 - val_loss: 1.0251 - val_accuracy: 0.7016\n",
            "\n",
            "Epoch 00025: val_accuracy improved from 0.68347 to 0.70161, saving model to /content/content/MyDrive/Data/IITMIDAS/mnistTask3/Task1 test/train/checkpoint.hdf5\n",
            "Epoch 26/50\n",
            "199/199 [==============================] - 6s 31ms/step - loss: 0.4501 - accuracy: 0.8322 - val_loss: 1.0516 - val_accuracy: 0.6815\n",
            "\n",
            "Epoch 00026: val_accuracy did not improve from 0.70161\n",
            "Epoch 27/50\n",
            "199/199 [==============================] - 6s 31ms/step - loss: 0.4493 - accuracy: 0.8381 - val_loss: 1.0558 - val_accuracy: 0.7036\n",
            "\n",
            "Epoch 00027: val_accuracy improved from 0.70161 to 0.70363, saving model to /content/content/MyDrive/Data/IITMIDAS/mnistTask3/Task1 test/train/checkpoint.hdf5\n",
            "Epoch 28/50\n",
            "199/199 [==============================] - 6s 31ms/step - loss: 0.4538 - accuracy: 0.8347 - val_loss: 1.0973 - val_accuracy: 0.6734\n",
            "\n",
            "Epoch 00028: val_accuracy did not improve from 0.70363\n",
            "Epoch 29/50\n",
            "199/199 [==============================] - 6s 31ms/step - loss: 0.4110 - accuracy: 0.8384 - val_loss: 1.0570 - val_accuracy: 0.7077\n",
            "\n",
            "Epoch 00029: val_accuracy improved from 0.70363 to 0.70766, saving model to /content/content/MyDrive/Data/IITMIDAS/mnistTask3/Task1 test/train/checkpoint.hdf5\n",
            "Epoch 30/50\n",
            "199/199 [==============================] - 6s 31ms/step - loss: 0.4114 - accuracy: 0.8580 - val_loss: 1.0557 - val_accuracy: 0.6956\n",
            "\n",
            "Epoch 00030: val_accuracy did not improve from 0.70766\n",
            "Epoch 31/50\n",
            "199/199 [==============================] - 6s 31ms/step - loss: 0.4005 - accuracy: 0.8600 - val_loss: 1.1138 - val_accuracy: 0.6915\n",
            "\n",
            "Epoch 00031: val_accuracy did not improve from 0.70766\n",
            "Epoch 32/50\n",
            "199/199 [==============================] - 6s 31ms/step - loss: 0.4010 - accuracy: 0.8577 - val_loss: 1.2062 - val_accuracy: 0.6734\n",
            "\n",
            "Epoch 00032: val_accuracy did not improve from 0.70766\n",
            "Epoch 33/50\n",
            "199/199 [==============================] - 6s 31ms/step - loss: 0.3966 - accuracy: 0.8512 - val_loss: 1.1438 - val_accuracy: 0.6835\n",
            "\n",
            "Epoch 00033: val_accuracy did not improve from 0.70766\n",
            "Epoch 34/50\n",
            "199/199 [==============================] - 6s 31ms/step - loss: 0.3945 - accuracy: 0.8659 - val_loss: 1.1050 - val_accuracy: 0.6815\n",
            "\n",
            "Epoch 00034: val_accuracy did not improve from 0.70766\n",
            "Epoch 35/50\n",
            "199/199 [==============================] - 6s 31ms/step - loss: 0.4265 - accuracy: 0.8375 - val_loss: 1.0611 - val_accuracy: 0.7117\n",
            "\n",
            "Epoch 00035: val_accuracy improved from 0.70766 to 0.71169, saving model to /content/content/MyDrive/Data/IITMIDAS/mnistTask3/Task1 test/train/checkpoint.hdf5\n",
            "Epoch 36/50\n",
            "199/199 [==============================] - 6s 31ms/step - loss: 0.3805 - accuracy: 0.8583 - val_loss: 1.1521 - val_accuracy: 0.7016\n",
            "\n",
            "Epoch 00036: val_accuracy did not improve from 0.71169\n",
            "Epoch 37/50\n",
            "199/199 [==============================] - 6s 31ms/step - loss: 0.3939 - accuracy: 0.8572 - val_loss: 1.0679 - val_accuracy: 0.7036\n",
            "\n",
            "Epoch 00037: val_accuracy did not improve from 0.71169\n",
            "Epoch 38/50\n",
            "199/199 [==============================] - 6s 31ms/step - loss: 0.3189 - accuracy: 0.8795 - val_loss: 1.1735 - val_accuracy: 0.6714\n",
            "\n",
            "Epoch 00038: val_accuracy did not improve from 0.71169\n",
            "Epoch 39/50\n",
            "199/199 [==============================] - 6s 31ms/step - loss: 0.3550 - accuracy: 0.8731 - val_loss: 1.1679 - val_accuracy: 0.6815\n",
            "\n",
            "Epoch 00039: val_accuracy did not improve from 0.71169\n",
            "Epoch 40/50\n",
            "199/199 [==============================] - 6s 31ms/step - loss: 0.3410 - accuracy: 0.8650 - val_loss: 1.2348 - val_accuracy: 0.6754\n",
            "\n",
            "Epoch 00040: val_accuracy did not improve from 0.71169\n",
            "Epoch 41/50\n",
            "199/199 [==============================] - 6s 31ms/step - loss: 0.3850 - accuracy: 0.8668 - val_loss: 1.1401 - val_accuracy: 0.6895\n",
            "\n",
            "Epoch 00041: val_accuracy did not improve from 0.71169\n",
            "Epoch 42/50\n",
            "199/199 [==============================] - 6s 31ms/step - loss: 0.3311 - accuracy: 0.8796 - val_loss: 1.1946 - val_accuracy: 0.6996\n",
            "\n",
            "Epoch 00042: val_accuracy did not improve from 0.71169\n",
            "Epoch 43/50\n",
            "199/199 [==============================] - 6s 31ms/step - loss: 0.3428 - accuracy: 0.8779 - val_loss: 1.1989 - val_accuracy: 0.6976\n",
            "\n",
            "Epoch 00043: val_accuracy did not improve from 0.71169\n",
            "Epoch 44/50\n",
            "199/199 [==============================] - 6s 31ms/step - loss: 0.2885 - accuracy: 0.8959 - val_loss: 1.2680 - val_accuracy: 0.6673\n",
            "\n",
            "Epoch 00044: val_accuracy did not improve from 0.71169\n",
            "Epoch 45/50\n",
            "199/199 [==============================] - 6s 31ms/step - loss: 0.2953 - accuracy: 0.8870 - val_loss: 1.1909 - val_accuracy: 0.6835\n",
            "\n",
            "Epoch 00045: val_accuracy did not improve from 0.71169\n",
            "Epoch 46/50\n",
            "199/199 [==============================] - 6s 31ms/step - loss: 0.2901 - accuracy: 0.8964 - val_loss: 1.2778 - val_accuracy: 0.6875\n",
            "\n",
            "Epoch 00046: val_accuracy did not improve from 0.71169\n",
            "Epoch 47/50\n",
            "199/199 [==============================] - 6s 31ms/step - loss: 0.2966 - accuracy: 0.8913 - val_loss: 1.3896 - val_accuracy: 0.6734\n",
            "\n",
            "Epoch 00047: val_accuracy did not improve from 0.71169\n",
            "Epoch 48/50\n",
            "199/199 [==============================] - 6s 31ms/step - loss: 0.3060 - accuracy: 0.8867 - val_loss: 1.3415 - val_accuracy: 0.6714\n",
            "\n",
            "Epoch 00048: val_accuracy did not improve from 0.71169\n",
            "Epoch 49/50\n",
            "199/199 [==============================] - 6s 31ms/step - loss: 0.2921 - accuracy: 0.8996 - val_loss: 1.2662 - val_accuracy: 0.6895\n",
            "\n",
            "Epoch 00049: val_accuracy did not improve from 0.71169\n",
            "Epoch 50/50\n",
            "199/199 [==============================] - 6s 31ms/step - loss: 0.3352 - accuracy: 0.8773 - val_loss: 1.1637 - val_accuracy: 0.6935\n",
            "\n",
            "Epoch 00050: val_accuracy did not improve from 0.71169\n"
          ],
          "name": "stdout"
        }
      ]
    },
    {
      "cell_type": "markdown",
      "metadata": {
        "id": "YWYWo0Blk9v9"
      },
      "source": [
        "### Plot"
      ]
    },
    {
      "cell_type": "code",
      "metadata": {
        "id": "3QbwsgocsK-q",
        "colab": {
          "base_uri": "https://localhost:8080/",
          "height": 435
        },
        "outputId": "cf996352-faca-4e51-b063-90006f077360"
      },
      "source": [
        "acc = history.history['accuracy']\n",
        "val_acc = history.history['val_accuracy']\n",
        "loss = history.history['loss']\n",
        "val_loss = history.history['val_loss']\n",
        "\n",
        "epochs_range = range(50)\n",
        "\n",
        "plt.figure(figsize=(15, 15))\n",
        "plt.subplot(2, 2, 1)\n",
        "plt.plot(epochs_range, acc, label='Training Accuracy')\n",
        "plt.plot(epochs_range, val_acc, label='Validation Accuracy')\n",
        "plt.legend(loc='lower right')\n",
        "plt.title('Training and Validation Accuracy')\n",
        "\n",
        "plt.subplot(2, 2, 2)\n",
        "plt.plot(epochs_range, loss, label='Training Loss')\n",
        "plt.plot(epochs_range, val_loss, label='Validation Loss')\n",
        "plt.legend(loc='upper right')\n",
        "plt.title('Training and Validation Loss')\n",
        "plt.savefig(\"/content/content/MyDrive/Data/IITMIDAS/mnistTask3/Task1 test/train/task21.png\")\n",
        "plt.show()"
      ],
      "execution_count": 96,
      "outputs": [
        {
          "output_type": "display_data",
          "data": {
            "image/png": "[encoded data removed]",
            "text/plain": [
              "<Figure size 1080x1080 with 2 Axes>"
            ]
          },
          "metadata": {
            "tags": [],
            "needs_background": "light"
          }
        }
      ]
    },
    {
      "cell_type": "markdown",
      "metadata": {
        "id": "tcCy86fHOO9p"
      },
      "source": [
        "# Comment:\n",
        "## Here the low accuracies are due to large number of classes with less example in hand per class"
      ]
    },
    {
      "cell_type": "markdown",
      "metadata": {
        "id": "OY-qg8kEahU0"
      },
      "source": [
        "# Part2"
      ]
    },
    {
      "cell_type": "markdown",
      "metadata": {
        "id": "hqzCMXeCIbD7"
      },
      "source": [
        "## Load Mnist data"
      ]
    },
    {
      "cell_type": "code",
      "metadata": {
        "colab": {
          "base_uri": "https://localhost:8080/"
        },
        "id": "-wVlOSmrXgzT",
        "outputId": "c31d5ae4-f1c2-459f-ceda-f3cc2fb3b165"
      },
      "source": [
        "(x_train, y_train), (x_test, y_test) = mnist.load_data()\n",
        "print(x_train.shape, y_train.shape)"
      ],
      "execution_count": 108,
      "outputs": [
        {
          "output_type": "stream",
          "text": [
            "(60000, 28, 28) (60000,)\n"
          ],
          "name": "stdout"
        }
      ]
    },
    {
      "cell_type": "markdown",
      "metadata": {
        "id": "weuzISwiIz6q"
      },
      "source": [
        "### Pre-processing Mnist"
      ]
    },
    {
      "cell_type": "code",
      "metadata": {
        "id": "759OdABRXjqk"
      },
      "source": [
        "x_train =normalize_reshape(x_train)\n",
        "x_test = normalize_reshape(x_test)\n",
        "\n",
        "num_classes=10\n",
        "y_train = keras.utils.to_categorical(y_train, num_classes)\n",
        "y_test = keras.utils.to_categorical(y_test, num_classes)\n"
      ],
      "execution_count": 109,
      "outputs": []
    },
    {
      "cell_type": "code",
      "metadata": {
        "colab": {
          "base_uri": "https://localhost:8080/"
        },
        "id": "Nr_rtlIMonrl",
        "outputId": "a1c9c431-ba92-4840-bab8-574a3c7fa439"
      },
      "source": [
        "x_train.shape"
      ],
      "execution_count": 110,
      "outputs": [
        {
          "output_type": "execute_result",
          "data": {
            "text/plain": [
              "(60000, 28, 28, 1)"
            ]
          },
          "metadata": {
            "tags": []
          },
          "execution_count": 110
        }
      ]
    },
    {
      "cell_type": "code",
      "metadata": {
        "colab": {
          "base_uri": "https://localhost:8080/"
        },
        "id": "z4GXzsGaowDc",
        "outputId": "0d8dcb7c-d713-4c3e-af19-598aa4552c33"
      },
      "source": [
        "x_test.shape"
      ],
      "execution_count": 111,
      "outputs": [
        {
          "output_type": "execute_result",
          "data": {
            "text/plain": [
              "(10000, 28, 28, 1)"
            ]
          },
          "metadata": {
            "tags": []
          },
          "execution_count": 111
        }
      ]
    },
    {
      "cell_type": "code",
      "metadata": {
        "colab": {
          "base_uri": "https://localhost:8080/"
        },
        "id": "qZg1ZTI3o0oD",
        "outputId": "55a1b5ef-ed69-4dd2-a7ad-522777118981"
      },
      "source": [
        "y_train.shape"
      ],
      "execution_count": 112,
      "outputs": [
        {
          "output_type": "execute_result",
          "data": {
            "text/plain": [
              "(60000, 10)"
            ]
          },
          "metadata": {
            "tags": []
          },
          "execution_count": 112
        }
      ]
    },
    {
      "cell_type": "code",
      "metadata": {
        "id": "RLoruWzXdB29"
      },
      "source": [
        "model = get_model((28,28),10,0.001)"
      ],
      "execution_count": 113,
      "outputs": []
    },
    {
      "cell_type": "markdown",
      "metadata": {
        "id": "_l2O591bXrNW"
      },
      "source": [
        "### Part2 case 1: Training a model using Mnist dataset"
      ]
    },
    {
      "cell_type": "code",
      "metadata": {
        "id": "QpUeouKzXnbP",
        "colab": {
          "base_uri": "https://localhost:8080/"
        },
        "outputId": "90ca0a61-2e65-4c52-e238-cef0eb6f2c15"
      },
      "source": [
        "checkpoint = ModelCheckpoint(filepath=\"/content/content/MyDrive/Data/IITMIDAS/mnistTask3/Task1 test/train/checkpoint2.hdf5\", monitor='val_accuracy', verbose=1, save_best_only=True, mode='max')\n",
        "history = model.fit(x_train, y_train,epochs = 20 , validation_data = (x_test,y_test),batch_size=500,shuffle=True,callbacks=[checkpoint])"
      ],
      "execution_count": 114,
      "outputs": [
        {
          "output_type": "stream",
          "text": [
            "Epoch 1/20\n",
            "120/120 [==============================] - 140s 1s/step - loss: 1.1379 - accuracy: 0.6157 - val_loss: 0.0920 - val_accuracy: 0.9752\n",
            "\n",
            "Epoch 00001: val_accuracy improved from -inf to 0.97520, saving model to /content/content/MyDrive/Data/IITMIDAS/mnistTask3/Task1 test/train/checkpoint2.hdf5\n",
            "Epoch 2/20\n",
            "120/120 [==============================] - 139s 1s/step - loss: 0.1216 - accuracy: 0.9634 - val_loss: 0.0589 - val_accuracy: 0.9829\n",
            "\n",
            "Epoch 00002: val_accuracy improved from 0.97520 to 0.98290, saving model to /content/content/MyDrive/Data/IITMIDAS/mnistTask3/Task1 test/train/checkpoint2.hdf5\n",
            "Epoch 3/20\n",
            "120/120 [==============================] - 139s 1s/step - loss: 0.0865 - accuracy: 0.9733 - val_loss: 0.0462 - val_accuracy: 0.9865\n",
            "\n",
            "Epoch 00003: val_accuracy improved from 0.98290 to 0.98650, saving model to /content/content/MyDrive/Data/IITMIDAS/mnistTask3/Task1 test/train/checkpoint2.hdf5\n",
            "Epoch 4/20\n",
            "120/120 [==============================] - 138s 1s/step - loss: 0.0619 - accuracy: 0.9813 - val_loss: 0.0377 - val_accuracy: 0.9888\n",
            "\n",
            "Epoch 00004: val_accuracy improved from 0.98650 to 0.98880, saving model to /content/content/MyDrive/Data/IITMIDAS/mnistTask3/Task1 test/train/checkpoint2.hdf5\n",
            "Epoch 5/20\n",
            "120/120 [==============================] - 138s 1s/step - loss: 0.0556 - accuracy: 0.9828 - val_loss: 0.0296 - val_accuracy: 0.9912\n",
            "\n",
            "Epoch 00005: val_accuracy improved from 0.98880 to 0.99120, saving model to /content/content/MyDrive/Data/IITMIDAS/mnistTask3/Task1 test/train/checkpoint2.hdf5\n",
            "Epoch 6/20\n",
            "120/120 [==============================] - 139s 1s/step - loss: 0.0434 - accuracy: 0.9866 - val_loss: 0.0322 - val_accuracy: 0.9902\n",
            "\n",
            "Epoch 00006: val_accuracy did not improve from 0.99120\n",
            "Epoch 7/20\n",
            "120/120 [==============================] - 138s 1s/step - loss: 0.0385 - accuracy: 0.9875 - val_loss: 0.0261 - val_accuracy: 0.9913\n",
            "\n",
            "Epoch 00007: val_accuracy improved from 0.99120 to 0.99130, saving model to /content/content/MyDrive/Data/IITMIDAS/mnistTask3/Task1 test/train/checkpoint2.hdf5\n",
            "Epoch 8/20\n",
            "120/120 [==============================] - 138s 1s/step - loss: 0.0364 - accuracy: 0.9883 - val_loss: 0.0291 - val_accuracy: 0.9896\n",
            "\n",
            "Epoch 00008: val_accuracy did not improve from 0.99130\n",
            "Epoch 9/20\n",
            "120/120 [==============================] - 139s 1s/step - loss: 0.0354 - accuracy: 0.9888 - val_loss: 0.0284 - val_accuracy: 0.9907\n",
            "\n",
            "Epoch 00009: val_accuracy did not improve from 0.99130\n",
            "Epoch 10/20\n",
            "120/120 [==============================] - 138s 1s/step - loss: 0.0308 - accuracy: 0.9906 - val_loss: 0.0251 - val_accuracy: 0.9908\n",
            "\n",
            "Epoch 00010: val_accuracy did not improve from 0.99130\n",
            "Epoch 11/20\n",
            "120/120 [==============================] - 139s 1s/step - loss: 0.0302 - accuracy: 0.9907 - val_loss: 0.0255 - val_accuracy: 0.9920\n",
            "\n",
            "Epoch 00011: val_accuracy improved from 0.99130 to 0.99200, saving model to /content/content/MyDrive/Data/IITMIDAS/mnistTask3/Task1 test/train/checkpoint2.hdf5\n",
            "Epoch 12/20\n",
            "120/120 [==============================] - 139s 1s/step - loss: 0.0271 - accuracy: 0.9916 - val_loss: 0.0210 - val_accuracy: 0.9930\n",
            "\n",
            "Epoch 00012: val_accuracy improved from 0.99200 to 0.99300, saving model to /content/content/MyDrive/Data/IITMIDAS/mnistTask3/Task1 test/train/checkpoint2.hdf5\n",
            "Epoch 13/20\n",
            "120/120 [==============================] - 139s 1s/step - loss: 0.0247 - accuracy: 0.9917 - val_loss: 0.0198 - val_accuracy: 0.9937\n",
            "\n",
            "Epoch 00013: val_accuracy improved from 0.99300 to 0.99370, saving model to /content/content/MyDrive/Data/IITMIDAS/mnistTask3/Task1 test/train/checkpoint2.hdf5\n",
            "Epoch 14/20\n",
            "120/120 [==============================] - 139s 1s/step - loss: 0.0231 - accuracy: 0.9929 - val_loss: 0.0254 - val_accuracy: 0.9923\n",
            "\n",
            "Epoch 00014: val_accuracy did not improve from 0.99370\n",
            "Epoch 15/20\n",
            "120/120 [==============================] - 138s 1s/step - loss: 0.0223 - accuracy: 0.9925 - val_loss: 0.0336 - val_accuracy: 0.9902\n",
            "\n",
            "Epoch 00015: val_accuracy did not improve from 0.99370\n",
            "Epoch 16/20\n",
            "120/120 [==============================] - 138s 1s/step - loss: 0.0236 - accuracy: 0.9928 - val_loss: 0.0226 - val_accuracy: 0.9923\n",
            "\n",
            "Epoch 00016: val_accuracy did not improve from 0.99370\n",
            "Epoch 17/20\n",
            "120/120 [==============================] - 138s 1s/step - loss: 0.0203 - accuracy: 0.9939 - val_loss: 0.0207 - val_accuracy: 0.9934\n",
            "\n",
            "Epoch 00017: val_accuracy did not improve from 0.99370\n",
            "Epoch 18/20\n",
            "120/120 [==============================] - 138s 1s/step - loss: 0.0206 - accuracy: 0.9932 - val_loss: 0.0232 - val_accuracy: 0.9927\n",
            "\n",
            "Epoch 00018: val_accuracy did not improve from 0.99370\n",
            "Epoch 19/20\n",
            "120/120 [==============================] - 138s 1s/step - loss: 0.0182 - accuracy: 0.9941 - val_loss: 0.0223 - val_accuracy: 0.9924\n",
            "\n",
            "Epoch 00019: val_accuracy did not improve from 0.99370\n",
            "Epoch 20/20\n",
            "120/120 [==============================] - 139s 1s/step - loss: 0.0154 - accuracy: 0.9952 - val_loss: 0.0241 - val_accuracy: 0.9909\n",
            "\n",
            "Epoch 00020: val_accuracy did not improve from 0.99370\n"
          ],
          "name": "stdout"
        }
      ]
    },
    {
      "cell_type": "code",
      "metadata": {
        "id": "LG1mI41pDh95"
      },
      "source": [
        "model = load_model(\"/content/content/MyDrive/Data/IITMIDAS/mnistTask3/Task1 test/train/checkpoint2.hdf5\")"
      ],
      "execution_count": 115,
      "outputs": []
    },
    {
      "cell_type": "markdown",
      "metadata": {
        "id": "rGWBgaqPeeI7"
      },
      "source": [
        "#### Making prediction"
      ]
    },
    {
      "cell_type": "code",
      "metadata": {
        "id": "j9yPYEQ3DnTo"
      },
      "source": [
        "y_pred=model.predict(x_test)"
      ],
      "execution_count": 116,
      "outputs": []
    },
    {
      "cell_type": "markdown",
      "metadata": {
        "id": "YmTSx4KHemay"
      },
      "source": [
        "### Accuracy Score"
      ]
    },
    {
      "cell_type": "code",
      "metadata": {
        "id": "HI3p4zCWDnW1",
        "colab": {
          "base_uri": "https://localhost:8080/"
        },
        "outputId": "526252ab-35dc-4a73-9708-784845aaf405"
      },
      "source": [
        "accuracy_score(y_test.argmax(axis=1),y_pred.argmax(axis=1))"
      ],
      "execution_count": 117,
      "outputs": [
        {
          "output_type": "execute_result",
          "data": {
            "text/plain": [
              "0.9937"
            ]
          },
          "metadata": {
            "tags": []
          },
          "execution_count": 117
        }
      ]
    },
    {
      "cell_type": "markdown",
      "metadata": {
        "id": "NtX-AMwnetFo"
      },
      "source": [
        "### Precision Score"
      ]
    },
    {
      "cell_type": "code",
      "metadata": {
        "id": "mVYsafbYDnaA",
        "colab": {
          "base_uri": "https://localhost:8080/"
        },
        "outputId": "0947ac32-5e33-4ebc-c4ef-d7a05015dab0"
      },
      "source": [
        "precision_score(y_test.argmax(axis=1),y_pred.argmax(axis=1),average='weighted')\n"
      ],
      "execution_count": 118,
      "outputs": [
        {
          "output_type": "execute_result",
          "data": {
            "text/plain": [
              "0.9937157185546132"
            ]
          },
          "metadata": {
            "tags": []
          },
          "execution_count": 118
        }
      ]
    },
    {
      "cell_type": "markdown",
      "metadata": {
        "id": "CI30gQdCevu5"
      },
      "source": [
        "### Recall Score"
      ]
    },
    {
      "cell_type": "code",
      "metadata": {
        "id": "QQi69oyADndE",
        "colab": {
          "base_uri": "https://localhost:8080/"
        },
        "outputId": "4c69cd65-0e7d-4cde-cbe0-ef1ee69f3008"
      },
      "source": [
        "recall_score(y_test.argmax(axis=1),y_pred.argmax(axis=1),average='weighted')\n"
      ],
      "execution_count": 119,
      "outputs": [
        {
          "output_type": "execute_result",
          "data": {
            "text/plain": [
              "0.9937"
            ]
          },
          "metadata": {
            "tags": []
          },
          "execution_count": 119
        }
      ]
    },
    {
      "cell_type": "markdown",
      "metadata": {
        "id": "UlkveYjheyDe"
      },
      "source": [
        "### F1 Score"
      ]
    },
    {
      "cell_type": "code",
      "metadata": {
        "id": "VcOKqlwADngM",
        "colab": {
          "base_uri": "https://localhost:8080/"
        },
        "outputId": "27eea740-8030-4ac6-a00b-a8444d7e5188"
      },
      "source": [
        "f1_score(y_test.argmax(axis=1),y_pred.argmax(axis=1),average='weighted')\n"
      ],
      "execution_count": 120,
      "outputs": [
        {
          "output_type": "execute_result",
          "data": {
            "text/plain": [
              "0.9937001461879638"
            ]
          },
          "metadata": {
            "tags": []
          },
          "execution_count": 120
        }
      ]
    },
    {
      "cell_type": "markdown",
      "metadata": {
        "id": "MOxddRvZe13y"
      },
      "source": [
        "### Confusion Matrix"
      ]
    },
    {
      "cell_type": "code",
      "metadata": {
        "id": "vM4DJhVPD67e",
        "colab": {
          "base_uri": "https://localhost:8080/"
        },
        "outputId": "1e1b3b8c-d93b-438b-ace8-0fecb2539475"
      },
      "source": [
        "confusion_matrix(y_test.argmax(axis=1),y_pred.argmax(axis=1),labels=list(range(10)))"
      ],
      "execution_count": 121,
      "outputs": [
        {
          "output_type": "execute_result",
          "data": {
            "text/plain": [
              "array([[ 973,    0,    1,    0,    0,    0,    5,    1,    0,    0],\n",
              "       [   0, 1131,    1,    1,    0,    0,    2,    0,    0,    0],\n",
              "       [   1,    0, 1030,    0,    0,    0,    0,    0,    1,    0],\n",
              "       [   0,    0,    1, 1004,    0,    5,    0,    0,    0,    0],\n",
              "       [   0,    0,    0,    0,  980,    0,    0,    1,    0,    1],\n",
              "       [   1,    0,    1,    4,    0,  885,    1,    0,    0,    0],\n",
              "       [   2,    3,    0,    0,    1,    0,  952,    0,    0,    0],\n",
              "       [   0,    4,    5,    0,    1,    0,    0, 1016,    0,    2],\n",
              "       [   2,    0,    1,    0,    0,    1,    1,    0,  967,    2],\n",
              "       [   0,    0,    3,    0,    5,    0,    1,    1,    0,  999]])"
            ]
          },
          "metadata": {
            "tags": []
          },
          "execution_count": 121
        }
      ]
    },
    {
      "cell_type": "markdown",
      "metadata": {
        "id": "JJesovrlwQ3c"
      },
      "source": [
        "### Plot"
      ]
    },
    {
      "cell_type": "code",
      "metadata": {
        "id": "SvrSASPLYR00",
        "colab": {
          "base_uri": "https://localhost:8080/",
          "height": 435
        },
        "outputId": "557d03aa-44a1-4de2-ba74-b3ea045b86cb"
      },
      "source": [
        "acc = history.history['accuracy']\n",
        "val_acc = history.history['val_accuracy']\n",
        "loss = history.history['loss']\n",
        "val_loss = history.history['val_loss']\n",
        "\n",
        "epochs_range = range(20)\n",
        "\n",
        "plt.figure(figsize=(15, 15))\n",
        "plt.subplot(2, 2, 1)\n",
        "plt.plot(epochs_range, acc, label='Training Accuracy')\n",
        "plt.plot(epochs_range, val_acc, label='Validation Accuracy')\n",
        "plt.legend(loc='lower right')\n",
        "plt.title('Training and Validation Accuracy')\n",
        "\n",
        "plt.subplot(2, 2, 2)\n",
        "plt.plot(epochs_range, loss, label='Training Loss')\n",
        "plt.plot(epochs_range, val_loss, label='Validation Loss')\n",
        "plt.legend(loc='upper right')\n",
        "plt.title('Training and Validation Loss')\n",
        "plt.savefig(\"/content/content/MyDrive/Data/IITMIDAS/mnistTask3/Task1 test/train/task221.png\")\n",
        "plt.show()"
      ],
      "execution_count": 122,
      "outputs": [
        {
          "output_type": "display_data",
          "data": {
            "image/png": "[encoded data removed]",
            "text/plain": [
              "<Figure size 1080x1080 with 2 Axes>"
            ]
          },
          "metadata": {
            "tags": [],
            "needs_background": "light"
          }
        }
      ]
    },
    {
      "cell_type": "markdown",
      "metadata": {
        "id": "CnlqtRNkYk4L"
      },
      "source": [
        "### Part2 case 2: Pre-training a model using the data in Part 1 and the training and testing with the Mnist data\n",
        "\n",
        "\n"
      ]
    },
    {
      "cell_type": "markdown",
      "metadata": {
        "id": "cjAffeSuJZ20"
      },
      "source": [
        "#### Loading Mnist"
      ]
    },
    {
      "cell_type": "code",
      "metadata": {
        "id": "89ZbDv4hZCNn",
        "colab": {
          "base_uri": "https://localhost:8080/"
        },
        "outputId": "0904528f-615a-41ab-cbb2-764e83332359"
      },
      "source": [
        "(x_train, y_train), (x_test, y_test) = mnist.load_data()\n",
        "print(x_train.shape, y_train.shape)"
      ],
      "execution_count": 223,
      "outputs": [
        {
          "output_type": "stream",
          "text": [
            "(60000, 28, 28) (60000,)\n"
          ],
          "name": "stdout"
        }
      ]
    },
    {
      "cell_type": "markdown",
      "metadata": {
        "id": "k3acBI1PJeir"
      },
      "source": [
        "### Using a sample of 100 point randomly from the test set of the Mnist for the purpose of validation during the pre-training"
      ]
    },
    {
      "cell_type": "code",
      "metadata": {
        "id": "cOAQaoieMviu"
      },
      "source": [
        "sample_indices=sample(list(range(len(x_test))),100)"
      ],
      "execution_count": 1,
      "outputs": []
    },
    {
      "cell_type": "code",
      "metadata": {
        "id": "t5ZTygl6Mrup"
      },
      "source": [
        "x_test_sample=np.array([x_test[i] for i in sample_indices])\n",
        "y_test_sample=np.array([y_test[i] for i in sample_indices])"
      ],
      "execution_count": 225,
      "outputs": []
    },
    {
      "cell_type": "code",
      "metadata": {
        "id": "k8huYS-0YSug",
        "colab": {
          "base_uri": "https://localhost:8080/",
          "height": 45
        },
        "outputId": "09ef137e-95a6-4376-f206-c699abcf4999"
      },
      "source": [
        "cv2_imshow(x_test_sample[0])"
      ],
      "execution_count": 226,
      "outputs": [
        {
          "output_type": "display_data",
          "data": {
            "image/png": "[encoded data removed]",
            "text/plain": [
              "<PIL.Image.Image image mode=L size=28x28 at 0x7F7A07EEB6D0>"
            ]
          },
          "metadata": {
            "tags": []
          }
        }
      ]
    },
    {
      "cell_type": "markdown",
      "metadata": {
        "id": "DL0awe8VnU7n"
      },
      "source": [
        "## The images in mnist is with black background and white font while it is the opossite with the part 1 data, so here the images in the mnist transformed into the same font and background as it is with the given data in part 1"
      ]
    },
    {
      "cell_type": "code",
      "metadata": {
        "id": "hZWfeLtcYwH0"
      },
      "source": [
        "x_test_sample=transform_test(x_test_sample)"
      ],
      "execution_count": 227,
      "outputs": []
    },
    {
      "cell_type": "code",
      "metadata": {
        "id": "buPGb4dis6NK",
        "colab": {
          "base_uri": "https://localhost:8080/",
          "height": 45
        },
        "outputId": "faaed2f5-7fff-4f87-f24a-bf16eb6732f9"
      },
      "source": [
        "cv2_imshow(x_test_sample[0])"
      ],
      "execution_count": 228,
      "outputs": [
        {
          "output_type": "display_data",
          "data": {
            "image/png": "[encoded data removed]",
            "text/plain": [
              "<PIL.Image.Image image mode=L size=28x28 at 0x7F79CE331790>"
            ]
          },
          "metadata": {
            "tags": []
          }
        }
      ]
    },
    {
      "cell_type": "code",
      "metadata": {
        "id": "2ZWeR0FiZMbd"
      },
      "source": [
        "x_train=normalize_reshape(x_train)\n",
        "x_test=normalize_reshape(x_test)\n",
        "\n",
        "x_test=normalize_reshape(x_test)\n",
        "x_test_sample=normalize_reshape(x_test_sample)"
      ],
      "execution_count": 229,
      "outputs": []
    },
    {
      "cell_type": "code",
      "metadata": {
        "id": "h5TSvkj-vlEm"
      },
      "source": [
        "y_train=keras.utils.to_categorical(y_train, 10)\n",
        "y_test=keras.utils.to_categorical(y_test, 10)\n",
        "y_test_sample=keras.utils.to_categorical(y_test_sample, 10)"
      ],
      "execution_count": 230,
      "outputs": []
    },
    {
      "cell_type": "code",
      "metadata": {
        "id": "HqK-PUs_qM9y"
      },
      "source": [
        "categories=get_categories_task1test(10)# Getting the 62 categroies"
      ],
      "execution_count": 231,
      "outputs": []
    },
    {
      "cell_type": "code",
      "metadata": {
        "id": "Gmk_k8fc78zx"
      },
      "source": [
        "num_train_per_cat =1\n",
        "data_path = osp.join(\"/content/content/MyDrive/Data/IITMIDAS/mnistTask3/Task1 test/train/\")\n",
        "train_image_paths, test_image_paths, train_labels, test_labels = get_image_paths(data_path,categories,num_train_per_cat,'.png')\n",
        "train_labels=transform_categories(train_labels,categories,10)"
      ],
      "execution_count": 165,
      "outputs": []
    },
    {
      "cell_type": "code",
      "metadata": {
        "id": "1Rm5Kk3X-I6H"
      },
      "source": [
        "train_images=get_images(train_image_paths)\n",
        "\n",
        "train_images=resize_images(train_images,28)"
      ],
      "execution_count": 166,
      "outputs": []
    },
    {
      "cell_type": "code",
      "metadata": {
        "id": "OIyP_05y-I9S"
      },
      "source": [
        "train_images=normalize_reshape(train_images)"
      ],
      "execution_count": 167,
      "outputs": []
    },
    {
      "cell_type": "code",
      "metadata": {
        "colab": {
          "base_uri": "https://localhost:8080/"
        },
        "id": "J82ZzYNpqq9a",
        "outputId": "6ab56c6b-6492-4015-ecbd-70112632e18a"
      },
      "source": [
        "train_images.shape"
      ],
      "execution_count": 168,
      "outputs": [
        {
          "output_type": "execute_result",
          "data": {
            "text/plain": [
              "(400, 28, 28, 1)"
            ]
          },
          "metadata": {
            "tags": []
          },
          "execution_count": 168
        }
      ]
    },
    {
      "cell_type": "code",
      "metadata": {
        "colab": {
          "base_uri": "https://localhost:8080/"
        },
        "id": "nA5rjbGprSF6",
        "outputId": "f81f992b-f01c-49bf-a7bc-c54933b07bdb"
      },
      "source": [
        "train_labels.shape"
      ],
      "execution_count": 169,
      "outputs": [
        {
          "output_type": "execute_result",
          "data": {
            "text/plain": [
              "(400, 10)"
            ]
          },
          "metadata": {
            "tags": []
          },
          "execution_count": 169
        }
      ]
    },
    {
      "cell_type": "code",
      "metadata": {
        "colab": {
          "base_uri": "https://localhost:8080/"
        },
        "id": "ZsdrNtTbragh",
        "outputId": "8b557be0-6606-4861-b8db-e8e60b4b7239"
      },
      "source": [
        "y_test_sample.shape"
      ],
      "execution_count": 170,
      "outputs": [
        {
          "output_type": "execute_result",
          "data": {
            "text/plain": [
              "(100, 10)"
            ]
          },
          "metadata": {
            "tags": []
          },
          "execution_count": 170
        }
      ]
    },
    {
      "cell_type": "markdown",
      "metadata": {
        "id": "8khPCTgDLABq"
      },
      "source": [
        "## Pre-training using data from part1 of the task"
      ]
    },
    {
      "cell_type": "code",
      "metadata": {
        "id": "hD2HzrkMxelR"
      },
      "source": [
        "model=get_model((28,28),10,0.001)"
      ],
      "execution_count": 11,
      "outputs": []
    },
    {
      "cell_type": "code",
      "metadata": {
        "id": "dutADrFTdB-F",
        "colab": {
          "base_uri": "https://localhost:8080/"
        },
        "outputId": "cd0dc186-7c04-4390-82bc-d815e4bfd5ff"
      },
      "source": [
        "checkpoint = ModelCheckpoint(filepath=\"/content/content/MyDrive/Data/IITMIDAS/mnistTask3/Task1 test/train/checkpoint3.hdf5\", monitor='val_accuracy', verbose=1, save_best_only=True, mode='max')\n",
        "history = model.fit(train_images,train_labels,epochs = 50,validation_data = (x_test_sample,y_test_sample),batch_size=10,shuffle=True,callbacks=[checkpoint])"
      ],
      "execution_count": 191,
      "outputs": [
        {
          "output_type": "stream",
          "text": [
            "Epoch 1/50\n",
            "40/40 [==============================] - 1s 9ms/step - loss: 2.3504 - accuracy: 0.0794 - val_loss: 2.2989 - val_accuracy: 0.1400\n",
            "\n",
            "Epoch 00001: val_accuracy improved from -inf to 0.14000, saving model to /content/content/MyDrive/Data/IITMIDAS/mnistTask3/Task1 test/train/checkpoint3.hdf5\n",
            "Epoch 2/50\n",
            "40/40 [==============================] - 0s 5ms/step - loss: 2.2927 - accuracy: 0.1199 - val_loss: 2.2841 - val_accuracy: 0.2400\n",
            "\n",
            "Epoch 00002: val_accuracy improved from 0.14000 to 0.24000, saving model to /content/content/MyDrive/Data/IITMIDAS/mnistTask3/Task1 test/train/checkpoint3.hdf5\n",
            "Epoch 3/50\n",
            "40/40 [==============================] - 0s 5ms/step - loss: 2.1775 - accuracy: 0.2997 - val_loss: 1.8801 - val_accuracy: 0.3200\n",
            "\n",
            "Epoch 00003: val_accuracy improved from 0.24000 to 0.32000, saving model to /content/content/MyDrive/Data/IITMIDAS/mnistTask3/Task1 test/train/checkpoint3.hdf5\n",
            "Epoch 4/50\n",
            "40/40 [==============================] - 0s 5ms/step - loss: 1.4239 - accuracy: 0.4786 - val_loss: 1.5172 - val_accuracy: 0.5200\n",
            "\n",
            "Epoch 00004: val_accuracy improved from 0.32000 to 0.52000, saving model to /content/content/MyDrive/Data/IITMIDAS/mnistTask3/Task1 test/train/checkpoint3.hdf5\n",
            "Epoch 5/50\n",
            "40/40 [==============================] - 0s 5ms/step - loss: 0.7691 - accuracy: 0.7795 - val_loss: 1.3620 - val_accuracy: 0.5700\n",
            "\n",
            "Epoch 00005: val_accuracy improved from 0.52000 to 0.57000, saving model to /content/content/MyDrive/Data/IITMIDAS/mnistTask3/Task1 test/train/checkpoint3.hdf5\n",
            "Epoch 6/50\n",
            "40/40 [==============================] - 0s 5ms/step - loss: 0.3683 - accuracy: 0.8707 - val_loss: 1.4064 - val_accuracy: 0.5800\n",
            "\n",
            "Epoch 00006: val_accuracy improved from 0.57000 to 0.58000, saving model to /content/content/MyDrive/Data/IITMIDAS/mnistTask3/Task1 test/train/checkpoint3.hdf5\n",
            "Epoch 7/50\n",
            "40/40 [==============================] - 0s 5ms/step - loss: 0.2480 - accuracy: 0.9277 - val_loss: 1.5049 - val_accuracy: 0.6500\n",
            "\n",
            "Epoch 00007: val_accuracy improved from 0.58000 to 0.65000, saving model to /content/content/MyDrive/Data/IITMIDAS/mnistTask3/Task1 test/train/checkpoint3.hdf5\n",
            "Epoch 8/50\n",
            "40/40 [==============================] - 0s 4ms/step - loss: 0.2531 - accuracy: 0.9098 - val_loss: 1.4712 - val_accuracy: 0.5900\n",
            "\n",
            "Epoch 00008: val_accuracy did not improve from 0.65000\n",
            "Epoch 9/50\n",
            "40/40 [==============================] - 0s 4ms/step - loss: 0.2525 - accuracy: 0.9199 - val_loss: 1.4656 - val_accuracy: 0.5900\n",
            "\n",
            "Epoch 00009: val_accuracy did not improve from 0.65000\n",
            "Epoch 10/50\n",
            "40/40 [==============================] - 0s 4ms/step - loss: 0.1450 - accuracy: 0.9421 - val_loss: 1.4473 - val_accuracy: 0.5900\n",
            "\n",
            "Epoch 00010: val_accuracy did not improve from 0.65000\n",
            "Epoch 11/50\n",
            "40/40 [==============================] - 0s 5ms/step - loss: 0.0681 - accuracy: 0.9761 - val_loss: 1.4077 - val_accuracy: 0.6100\n",
            "\n",
            "Epoch 00011: val_accuracy did not improve from 0.65000\n",
            "Epoch 12/50\n",
            "40/40 [==============================] - 0s 4ms/step - loss: 0.1302 - accuracy: 0.9655 - val_loss: 1.5356 - val_accuracy: 0.5900\n",
            "\n",
            "Epoch 00012: val_accuracy did not improve from 0.65000\n",
            "Epoch 13/50\n",
            "40/40 [==============================] - 0s 4ms/step - loss: 0.1321 - accuracy: 0.9560 - val_loss: 1.6643 - val_accuracy: 0.5700\n",
            "\n",
            "Epoch 00013: val_accuracy did not improve from 0.65000\n",
            "Epoch 14/50\n",
            "40/40 [==============================] - 0s 4ms/step - loss: 0.0488 - accuracy: 0.9893 - val_loss: 1.6457 - val_accuracy: 0.5900\n",
            "\n",
            "Epoch 00014: val_accuracy did not improve from 0.65000\n",
            "Epoch 15/50\n",
            "40/40 [==============================] - 0s 4ms/step - loss: 0.0261 - accuracy: 0.9936 - val_loss: 1.4703 - val_accuracy: 0.6500\n",
            "\n",
            "Epoch 00015: val_accuracy did not improve from 0.65000\n",
            "Epoch 16/50\n",
            "40/40 [==============================] - 0s 4ms/step - loss: 0.0169 - accuracy: 0.9987 - val_loss: 1.5292 - val_accuracy: 0.6400\n",
            "\n",
            "Epoch 00016: val_accuracy did not improve from 0.65000\n",
            "Epoch 17/50\n",
            "40/40 [==============================] - 0s 4ms/step - loss: 0.0280 - accuracy: 0.9927 - val_loss: 1.9642 - val_accuracy: 0.6600\n",
            "\n",
            "Epoch 00017: val_accuracy improved from 0.65000 to 0.66000, saving model to /content/content/MyDrive/Data/IITMIDAS/mnistTask3/Task1 test/train/checkpoint3.hdf5\n",
            "Epoch 18/50\n",
            "40/40 [==============================] - 0s 4ms/step - loss: 0.0255 - accuracy: 0.9944 - val_loss: 1.7778 - val_accuracy: 0.6100\n",
            "\n",
            "Epoch 00018: val_accuracy did not improve from 0.66000\n",
            "Epoch 19/50\n",
            "40/40 [==============================] - 0s 4ms/step - loss: 0.0594 - accuracy: 0.9807 - val_loss: 1.6921 - val_accuracy: 0.6200\n",
            "\n",
            "Epoch 00019: val_accuracy did not improve from 0.66000\n",
            "Epoch 20/50\n",
            "40/40 [==============================] - 0s 5ms/step - loss: 0.0391 - accuracy: 0.9882 - val_loss: 1.6410 - val_accuracy: 0.5800\n",
            "\n",
            "Epoch 00020: val_accuracy did not improve from 0.66000\n",
            "Epoch 21/50\n",
            "40/40 [==============================] - 0s 4ms/step - loss: 0.0523 - accuracy: 0.9652 - val_loss: 1.7455 - val_accuracy: 0.6400\n",
            "\n",
            "Epoch 00021: val_accuracy did not improve from 0.66000\n",
            "Epoch 22/50\n",
            "40/40 [==============================] - 0s 4ms/step - loss: 0.0336 - accuracy: 0.9822 - val_loss: 2.6730 - val_accuracy: 0.5600\n",
            "\n",
            "Epoch 00022: val_accuracy did not improve from 0.66000\n",
            "Epoch 23/50\n",
            "40/40 [==============================] - 0s 4ms/step - loss: 0.0951 - accuracy: 0.9694 - val_loss: 1.5858 - val_accuracy: 0.6100\n",
            "\n",
            "Epoch 00023: val_accuracy did not improve from 0.66000\n",
            "Epoch 24/50\n",
            "40/40 [==============================] - 0s 4ms/step - loss: 0.0506 - accuracy: 0.9877 - val_loss: 1.5251 - val_accuracy: 0.6700\n",
            "\n",
            "Epoch 00024: val_accuracy improved from 0.66000 to 0.67000, saving model to /content/content/MyDrive/Data/IITMIDAS/mnistTask3/Task1 test/train/checkpoint3.hdf5\n",
            "Epoch 25/50\n",
            "40/40 [==============================] - 0s 5ms/step - loss: 0.0277 - accuracy: 0.9933 - val_loss: 1.7696 - val_accuracy: 0.6800\n",
            "\n",
            "Epoch 00025: val_accuracy improved from 0.67000 to 0.68000, saving model to /content/content/MyDrive/Data/IITMIDAS/mnistTask3/Task1 test/train/checkpoint3.hdf5\n",
            "Epoch 26/50\n",
            "40/40 [==============================] - 0s 5ms/step - loss: 0.0392 - accuracy: 0.9840 - val_loss: 1.7567 - val_accuracy: 0.6300\n",
            "\n",
            "Epoch 00026: val_accuracy did not improve from 0.68000\n",
            "Epoch 27/50\n",
            "40/40 [==============================] - 0s 4ms/step - loss: 0.0555 - accuracy: 0.9799 - val_loss: 1.7303 - val_accuracy: 0.6400\n",
            "\n",
            "Epoch 00027: val_accuracy did not improve from 0.68000\n",
            "Epoch 28/50\n",
            "40/40 [==============================] - 0s 5ms/step - loss: 0.0749 - accuracy: 0.9762 - val_loss: 2.2860 - val_accuracy: 0.5600\n",
            "\n",
            "Epoch 00028: val_accuracy did not improve from 0.68000\n",
            "Epoch 29/50\n",
            "40/40 [==============================] - 0s 4ms/step - loss: 0.0876 - accuracy: 0.9607 - val_loss: 1.4780 - val_accuracy: 0.6800\n",
            "\n",
            "Epoch 00029: val_accuracy did not improve from 0.68000\n",
            "Epoch 30/50\n",
            "40/40 [==============================] - 0s 4ms/step - loss: 0.0174 - accuracy: 0.9964 - val_loss: 2.0250 - val_accuracy: 0.6100\n",
            "\n",
            "Epoch 00030: val_accuracy did not improve from 0.68000\n",
            "Epoch 31/50\n",
            "40/40 [==============================] - 0s 4ms/step - loss: 0.0044 - accuracy: 1.0000 - val_loss: 1.8132 - val_accuracy: 0.6300\n",
            "\n",
            "Epoch 00031: val_accuracy did not improve from 0.68000\n",
            "Epoch 32/50\n",
            "40/40 [==============================] - 0s 5ms/step - loss: 0.0083 - accuracy: 1.0000 - val_loss: 1.7575 - val_accuracy: 0.6200\n",
            "\n",
            "Epoch 00032: val_accuracy did not improve from 0.68000\n",
            "Epoch 33/50\n",
            "40/40 [==============================] - 0s 4ms/step - loss: 0.0138 - accuracy: 0.9955 - val_loss: 2.3342 - val_accuracy: 0.5900\n",
            "\n",
            "Epoch 00033: val_accuracy did not improve from 0.68000\n",
            "Epoch 34/50\n",
            "40/40 [==============================] - 0s 4ms/step - loss: 0.0271 - accuracy: 0.9903 - val_loss: 2.3268 - val_accuracy: 0.5900\n",
            "\n",
            "Epoch 00034: val_accuracy did not improve from 0.68000\n",
            "Epoch 35/50\n",
            "40/40 [==============================] - 0s 4ms/step - loss: 0.0186 - accuracy: 0.9939 - val_loss: 1.9908 - val_accuracy: 0.5600\n",
            "\n",
            "Epoch 00035: val_accuracy did not improve from 0.68000\n",
            "Epoch 36/50\n",
            "40/40 [==============================] - 0s 5ms/step - loss: 0.0063 - accuracy: 0.9981 - val_loss: 1.6389 - val_accuracy: 0.6700\n",
            "\n",
            "Epoch 00036: val_accuracy did not improve from 0.68000\n",
            "Epoch 37/50\n",
            "40/40 [==============================] - 0s 5ms/step - loss: 0.0276 - accuracy: 0.9882 - val_loss: 1.8341 - val_accuracy: 0.6500\n",
            "\n",
            "Epoch 00037: val_accuracy did not improve from 0.68000\n",
            "Epoch 38/50\n",
            "40/40 [==============================] - 0s 4ms/step - loss: 0.1018 - accuracy: 0.9612 - val_loss: 1.5410 - val_accuracy: 0.6500\n",
            "\n",
            "Epoch 00038: val_accuracy did not improve from 0.68000\n",
            "Epoch 39/50\n",
            "40/40 [==============================] - 0s 4ms/step - loss: 0.0371 - accuracy: 0.9927 - val_loss: 1.8032 - val_accuracy: 0.6600\n",
            "\n",
            "Epoch 00039: val_accuracy did not improve from 0.68000\n",
            "Epoch 40/50\n",
            "40/40 [==============================] - 0s 5ms/step - loss: 0.0215 - accuracy: 0.9959 - val_loss: 1.5866 - val_accuracy: 0.6900\n",
            "\n",
            "Epoch 00040: val_accuracy improved from 0.68000 to 0.69000, saving model to /content/content/MyDrive/Data/IITMIDAS/mnistTask3/Task1 test/train/checkpoint3.hdf5\n",
            "Epoch 41/50\n",
            "40/40 [==============================] - 0s 4ms/step - loss: 0.0244 - accuracy: 0.9943 - val_loss: 1.7427 - val_accuracy: 0.6700\n",
            "\n",
            "Epoch 00041: val_accuracy did not improve from 0.69000\n",
            "Epoch 42/50\n",
            "40/40 [==============================] - 0s 5ms/step - loss: 0.0015 - accuracy: 1.0000 - val_loss: 1.7662 - val_accuracy: 0.6800\n",
            "\n",
            "Epoch 00042: val_accuracy did not improve from 0.69000\n",
            "Epoch 43/50\n",
            "40/40 [==============================] - 0s 4ms/step - loss: 0.0015 - accuracy: 1.0000 - val_loss: 1.6951 - val_accuracy: 0.6700\n",
            "\n",
            "Epoch 00043: val_accuracy did not improve from 0.69000\n",
            "Epoch 44/50\n",
            "40/40 [==============================] - 0s 5ms/step - loss: 0.0081 - accuracy: 1.0000 - val_loss: 1.7879 - val_accuracy: 0.6700\n",
            "\n",
            "Epoch 00044: val_accuracy did not improve from 0.69000\n",
            "Epoch 45/50\n",
            "40/40 [==============================] - 0s 5ms/step - loss: 0.0018 - accuracy: 1.0000 - val_loss: 1.7106 - val_accuracy: 0.6800\n",
            "\n",
            "Epoch 00045: val_accuracy did not improve from 0.69000\n",
            "Epoch 46/50\n",
            "40/40 [==============================] - 0s 5ms/step - loss: 0.0020 - accuracy: 1.0000 - val_loss: 1.7705 - val_accuracy: 0.6900\n",
            "\n",
            "Epoch 00046: val_accuracy did not improve from 0.69000\n",
            "Epoch 47/50\n",
            "40/40 [==============================] - 0s 5ms/step - loss: 5.8296e-04 - accuracy: 1.0000 - val_loss: 1.7330 - val_accuracy: 0.7100\n",
            "\n",
            "Epoch 00047: val_accuracy improved from 0.69000 to 0.71000, saving model to /content/content/MyDrive/Data/IITMIDAS/mnistTask3/Task1 test/train/checkpoint3.hdf5\n",
            "Epoch 48/50\n",
            "40/40 [==============================] - 0s 5ms/step - loss: 8.2858e-04 - accuracy: 1.0000 - val_loss: 1.6685 - val_accuracy: 0.7300\n",
            "\n",
            "Epoch 00048: val_accuracy improved from 0.71000 to 0.73000, saving model to /content/content/MyDrive/Data/IITMIDAS/mnistTask3/Task1 test/train/checkpoint3.hdf5\n",
            "Epoch 49/50\n",
            "40/40 [==============================] - 0s 5ms/step - loss: 5.1437e-04 - accuracy: 1.0000 - val_loss: 1.7012 - val_accuracy: 0.7200\n",
            "\n",
            "Epoch 00049: val_accuracy did not improve from 0.73000\n",
            "Epoch 50/50\n",
            "40/40 [==============================] - 0s 5ms/step - loss: 1.5029e-04 - accuracy: 1.0000 - val_loss: 1.7323 - val_accuracy: 0.7300\n",
            "\n",
            "Epoch 00050: val_accuracy did not improve from 0.73000\n"
          ],
          "name": "stdout"
        }
      ]
    },
    {
      "cell_type": "markdown",
      "metadata": {
        "id": "lfdpRfkWLGr5"
      },
      "source": [
        "## Training and testing the pre-trained model using the train and test split of the standard Mnist"
      ]
    },
    {
      "cell_type": "code",
      "metadata": {
        "id": "KZOqx55a7Wh_"
      },
      "source": [
        "model = load_model(\"/content/content/MyDrive/Data/IITMIDAS/mnistTask3/Task1 test/train/checkpoint3.hdf5\")"
      ],
      "execution_count": 123,
      "outputs": []
    },
    {
      "cell_type": "code",
      "metadata": {
        "id": "cg3AIdreOT1w",
        "colab": {
          "base_uri": "https://localhost:8080/"
        },
        "outputId": "bc5cfe85-df3d-4cb0-de40-000e64f2e0ce"
      },
      "source": [
        "checkpoint = ModelCheckpoint(filepath=\"/content/content/MyDrive/Data/IITMIDAS/mnistTask3/Task1 test/train/checkpoint4.hdf5\", monitor='val_accuracy', verbose=1, save_best_only=True, mode='max')\n",
        "history = model.fit(x_train,y_train,epochs = 20,validation_data = (x_test,y_test),batch_size=500,shuffle=True,callbacks=[checkpoint])"
      ],
      "execution_count": 124,
      "outputs": [
        {
          "output_type": "stream",
          "text": [
            "Epoch 1/20\n",
            "120/120 [==============================] - 137s 1s/step - loss: 0.9371 - accuracy: 0.7471 - val_loss: 0.1802 - val_accuracy: 0.9473\n",
            "\n",
            "Epoch 00001: val_accuracy improved from -inf to 0.94730, saving model to /content/content/MyDrive/Data/IITMIDAS/mnistTask3/Task1 test/train/checkpoint4.hdf5\n",
            "Epoch 2/20\n",
            "120/120 [==============================] - 137s 1s/step - loss: 0.1784 - accuracy: 0.9448 - val_loss: 0.1006 - val_accuracy: 0.9723\n",
            "\n",
            "Epoch 00002: val_accuracy improved from 0.94730 to 0.97230, saving model to /content/content/MyDrive/Data/IITMIDAS/mnistTask3/Task1 test/train/checkpoint4.hdf5\n",
            "Epoch 3/20\n",
            "120/120 [==============================] - 137s 1s/step - loss: 0.1272 - accuracy: 0.9599 - val_loss: 0.0862 - val_accuracy: 0.9754\n",
            "\n",
            "Epoch 00003: val_accuracy improved from 0.97230 to 0.97540, saving model to /content/content/MyDrive/Data/IITMIDAS/mnistTask3/Task1 test/train/checkpoint4.hdf5\n",
            "Epoch 4/20\n",
            "120/120 [==============================] - 137s 1s/step - loss: 0.1023 - accuracy: 0.9684 - val_loss: 0.0709 - val_accuracy: 0.9796\n",
            "\n",
            "Epoch 00004: val_accuracy improved from 0.97540 to 0.97960, saving model to /content/content/MyDrive/Data/IITMIDAS/mnistTask3/Task1 test/train/checkpoint4.hdf5\n",
            "Epoch 5/20\n",
            "120/120 [==============================] - 137s 1s/step - loss: 0.0854 - accuracy: 0.9728 - val_loss: 0.0659 - val_accuracy: 0.9822\n",
            "\n",
            "Epoch 00005: val_accuracy improved from 0.97960 to 0.98220, saving model to /content/content/MyDrive/Data/IITMIDAS/mnistTask3/Task1 test/train/checkpoint4.hdf5\n",
            "Epoch 6/20\n",
            "120/120 [==============================] - 138s 1s/step - loss: 0.0774 - accuracy: 0.9750 - val_loss: 0.0590 - val_accuracy: 0.9830\n",
            "\n",
            "Epoch 00006: val_accuracy improved from 0.98220 to 0.98300, saving model to /content/content/MyDrive/Data/IITMIDAS/mnistTask3/Task1 test/train/checkpoint4.hdf5\n",
            "Epoch 7/20\n",
            "120/120 [==============================] - 137s 1s/step - loss: 0.0711 - accuracy: 0.9770 - val_loss: 0.0530 - val_accuracy: 0.9836\n",
            "\n",
            "Epoch 00007: val_accuracy improved from 0.98300 to 0.98360, saving model to /content/content/MyDrive/Data/IITMIDAS/mnistTask3/Task1 test/train/checkpoint4.hdf5\n",
            "Epoch 8/20\n",
            "120/120 [==============================] - 137s 1s/step - loss: 0.0637 - accuracy: 0.9793 - val_loss: 0.0514 - val_accuracy: 0.9854\n",
            "\n",
            "Epoch 00008: val_accuracy improved from 0.98360 to 0.98540, saving model to /content/content/MyDrive/Data/IITMIDAS/mnistTask3/Task1 test/train/checkpoint4.hdf5\n",
            "Epoch 9/20\n",
            "120/120 [==============================] - 136s 1s/step - loss: 0.0589 - accuracy: 0.9815 - val_loss: 0.0429 - val_accuracy: 0.9881\n",
            "\n",
            "Epoch 00009: val_accuracy improved from 0.98540 to 0.98810, saving model to /content/content/MyDrive/Data/IITMIDAS/mnistTask3/Task1 test/train/checkpoint4.hdf5\n",
            "Epoch 10/20\n",
            "120/120 [==============================] - 136s 1s/step - loss: 0.0562 - accuracy: 0.9823 - val_loss: 0.0432 - val_accuracy: 0.9876\n",
            "\n",
            "Epoch 00010: val_accuracy did not improve from 0.98810\n",
            "Epoch 11/20\n",
            "120/120 [==============================] - 137s 1s/step - loss: 0.0525 - accuracy: 0.9834 - val_loss: 0.0440 - val_accuracy: 0.9869\n",
            "\n",
            "Epoch 00011: val_accuracy did not improve from 0.98810\n",
            "Epoch 12/20\n",
            "120/120 [==============================] - 137s 1s/step - loss: 0.0490 - accuracy: 0.9846 - val_loss: 0.0434 - val_accuracy: 0.9879\n",
            "\n",
            "Epoch 00012: val_accuracy did not improve from 0.98810\n",
            "Epoch 13/20\n",
            "120/120 [==============================] - 137s 1s/step - loss: 0.0452 - accuracy: 0.9855 - val_loss: 0.0368 - val_accuracy: 0.9890\n",
            "\n",
            "Epoch 00013: val_accuracy improved from 0.98810 to 0.98900, saving model to /content/content/MyDrive/Data/IITMIDAS/mnistTask3/Task1 test/train/checkpoint4.hdf5\n",
            "Epoch 14/20\n",
            "120/120 [==============================] - 137s 1s/step - loss: 0.0428 - accuracy: 0.9861 - val_loss: 0.0349 - val_accuracy: 0.9900\n",
            "\n",
            "Epoch 00014: val_accuracy improved from 0.98900 to 0.99000, saving model to /content/content/MyDrive/Data/IITMIDAS/mnistTask3/Task1 test/train/checkpoint4.hdf5\n",
            "Epoch 15/20\n",
            "120/120 [==============================] - 137s 1s/step - loss: 0.0406 - accuracy: 0.9869 - val_loss: 0.0348 - val_accuracy: 0.9897\n",
            "\n",
            "Epoch 00015: val_accuracy did not improve from 0.99000\n",
            "Epoch 16/20\n",
            "120/120 [==============================] - 138s 1s/step - loss: 0.0403 - accuracy: 0.9874 - val_loss: 0.0382 - val_accuracy: 0.9888\n",
            "\n",
            "Epoch 00016: val_accuracy did not improve from 0.99000\n",
            "Epoch 17/20\n",
            "120/120 [==============================] - 137s 1s/step - loss: 0.0391 - accuracy: 0.9879 - val_loss: 0.0371 - val_accuracy: 0.9893\n",
            "\n",
            "Epoch 00017: val_accuracy did not improve from 0.99000\n",
            "Epoch 18/20\n",
            "120/120 [==============================] - 138s 1s/step - loss: 0.0371 - accuracy: 0.9880 - val_loss: 0.0348 - val_accuracy: 0.9898\n",
            "\n",
            "Epoch 00018: val_accuracy did not improve from 0.99000\n",
            "Epoch 19/20\n",
            "120/120 [==============================] - 138s 1s/step - loss: 0.0344 - accuracy: 0.9886 - val_loss: 0.0368 - val_accuracy: 0.9891\n",
            "\n",
            "Epoch 00019: val_accuracy did not improve from 0.99000\n",
            "Epoch 20/20\n",
            "120/120 [==============================] - 138s 1s/step - loss: 0.0341 - accuracy: 0.9892 - val_loss: 0.0335 - val_accuracy: 0.9897\n",
            "\n",
            "Epoch 00020: val_accuracy did not improve from 0.99000\n"
          ],
          "name": "stdout"
        }
      ]
    },
    {
      "cell_type": "code",
      "metadata": {
        "id": "eO9MAzydeTio"
      },
      "source": [
        "model = load_model(\"/content/content/MyDrive/Data/IITMIDAS/mnistTask3/Task1 test/train/checkpoint4.hdf5\")"
      ],
      "execution_count": 125,
      "outputs": []
    },
    {
      "cell_type": "markdown",
      "metadata": {
        "id": "m0QIigAgaQVB"
      },
      "source": [
        "#### Making prediction"
      ]
    },
    {
      "cell_type": "code",
      "metadata": {
        "id": "wRTospvAeWCI"
      },
      "source": [
        "y_pred=model.predict(x_test)"
      ],
      "execution_count": 126,
      "outputs": []
    },
    {
      "cell_type": "markdown",
      "metadata": {
        "id": "FtXcO2pyv6FD"
      },
      "source": [
        "### Accuracy Score"
      ]
    },
    {
      "cell_type": "code",
      "metadata": {
        "id": "k-gjLSpIlQC3",
        "colab": {
          "base_uri": "https://localhost:8080/"
        },
        "outputId": "1b2f9b6b-87ed-4df4-da10-027a3eb9b077"
      },
      "source": [
        "accuracy_score(y_test.argmax(axis=1),y_pred.argmax(axis=1))"
      ],
      "execution_count": 127,
      "outputs": [
        {
          "output_type": "execute_result",
          "data": {
            "text/plain": [
              "0.99"
            ]
          },
          "metadata": {
            "tags": []
          },
          "execution_count": 127
        }
      ]
    },
    {
      "cell_type": "markdown",
      "metadata": {
        "id": "EkW7TLjWv--A"
      },
      "source": [
        "### Precision Score"
      ]
    },
    {
      "cell_type": "code",
      "metadata": {
        "id": "tADTE9LmBsso",
        "colab": {
          "base_uri": "https://localhost:8080/"
        },
        "outputId": "b2b1b2ae-0113-4ed4-a54c-74d632d6e4d3"
      },
      "source": [
        "precision_score(y_test.argmax(axis=1),y_pred.argmax(axis=1),average='weighted')\n"
      ],
      "execution_count": 128,
      "outputs": [
        {
          "output_type": "execute_result",
          "data": {
            "text/plain": [
              "0.9900567636802676"
            ]
          },
          "metadata": {
            "tags": []
          },
          "execution_count": 128
        }
      ]
    },
    {
      "cell_type": "markdown",
      "metadata": {
        "id": "IRSlH9n8wDRq"
      },
      "source": [
        "### Recall Score"
      ]
    },
    {
      "cell_type": "code",
      "metadata": {
        "id": "iWeii-8oC8Gj",
        "colab": {
          "base_uri": "https://localhost:8080/"
        },
        "outputId": "a2264571-c470-4b77-ee0e-961894683a4d"
      },
      "source": [
        "recall_score(y_test.argmax(axis=1),y_pred.argmax(axis=1),average='weighted')\n"
      ],
      "execution_count": 129,
      "outputs": [
        {
          "output_type": "execute_result",
          "data": {
            "text/plain": [
              "0.99"
            ]
          },
          "metadata": {
            "tags": []
          },
          "execution_count": 129
        }
      ]
    },
    {
      "cell_type": "markdown",
      "metadata": {
        "id": "_SbdBhRPwG9Q"
      },
      "source": [
        "### F1 Score"
      ]
    },
    {
      "cell_type": "code",
      "metadata": {
        "id": "YSEc49tUC8Ja",
        "colab": {
          "base_uri": "https://localhost:8080/"
        },
        "outputId": "a8a9a056-d7cf-4c28-b561-b25895979854"
      },
      "source": [
        "f1_score(y_test.argmax(axis=1),y_pred.argmax(axis=1),average='weighted')\n"
      ],
      "execution_count": 130,
      "outputs": [
        {
          "output_type": "execute_result",
          "data": {
            "text/plain": [
              "0.989998207764675"
            ]
          },
          "metadata": {
            "tags": []
          },
          "execution_count": 130
        }
      ]
    },
    {
      "cell_type": "markdown",
      "metadata": {
        "id": "eRwwr-jBwJ9t"
      },
      "source": [
        "### Confusion matrix"
      ]
    },
    {
      "cell_type": "code",
      "metadata": {
        "id": "Rv8IsW9oDBW5",
        "colab": {
          "base_uri": "https://localhost:8080/"
        },
        "outputId": "3793bb10-57f4-409c-ed4f-5102b0f18388"
      },
      "source": [
        "confusion_matrix(y_test.argmax(axis=1),y_pred.argmax(axis=1),labels=list(range(10)))"
      ],
      "execution_count": 131,
      "outputs": [
        {
          "output_type": "execute_result",
          "data": {
            "text/plain": [
              "array([[ 976,    0,    2,    0,    0,    0,    1,    1,    0,    0],\n",
              "       [   0, 1130,    2,    0,    1,    1,    0,    1,    0,    0],\n",
              "       [   0,    1, 1028,    0,    1,    0,    0,    2,    0,    0],\n",
              "       [   0,    1,    3, 1002,    0,    2,    0,    1,    1,    0],\n",
              "       [   0,    0,    0,    0,  979,    0,    0,    1,    0,    2],\n",
              "       [   1,    0,    3,    9,    0,  876,    1,    1,    0,    1],\n",
              "       [   2,    6,    1,    0,    1,    5,  940,    0,    3,    0],\n",
              "       [   0,    4,    6,    0,    0,    0,    0, 1017,    0,    1],\n",
              "       [   1,    1,    3,    0,    2,    1,    0,    0,  964,    2],\n",
              "       [   2,    1,    2,    0,   14,    1,    0,    0,    1,  988]])"
            ]
          },
          "metadata": {
            "tags": []
          },
          "execution_count": 131
        }
      ]
    },
    {
      "cell_type": "markdown",
      "metadata": {
        "id": "jItH4Su7wWxW"
      },
      "source": [
        "### Plot"
      ]
    },
    {
      "cell_type": "code",
      "metadata": {
        "id": "PHh3mkBaVBR6",
        "colab": {
          "base_uri": "https://localhost:8080/",
          "height": 435
        },
        "outputId": "28da305c-32df-400d-eaae-67f73741a5bd"
      },
      "source": [
        "acc = history.history['accuracy']\n",
        "val_acc = history.history['val_accuracy']\n",
        "loss = history.history['loss']\n",
        "val_loss = history.history['val_loss']\n",
        "\n",
        "epochs_range = range(20)\n",
        "\n",
        "plt.figure(figsize=(15, 15))\n",
        "plt.subplot(2, 2, 1)\n",
        "plt.plot(epochs_range, acc, label='Training Accuracy')\n",
        "plt.plot(epochs_range, val_acc, label='Validation Accuracy')\n",
        "plt.legend(loc='lower right')\n",
        "plt.title('Training and Validation Accuracy')\n",
        "\n",
        "plt.subplot(2, 2, 2)\n",
        "plt.plot(epochs_range, loss, label='Training Loss')\n",
        "plt.plot(epochs_range, val_loss, label='Validation Loss')\n",
        "plt.legend(loc='upper right')\n",
        "plt.title('Training and Validation Loss')\n",
        "plt.savefig(\"/content/content/MyDrive/Data/IITMIDAS/mnistTask3/Task1 test/train/task22.png\")\n",
        "plt.show()"
      ],
      "execution_count": 132,
      "outputs": [
        {
          "output_type": "display_data",
          "data": {
            "image/png": "[encoded data removed]",
            "text/plain": [
              "<Figure size 1080x1080 with 2 Axes>"
            ]
          },
          "metadata": {
            "tags": [],
            "needs_background": "light"
          }
        }
      ]
    },
    {
      "cell_type": "markdown",
      "metadata": {
        "id": "jA1bUAkbJENh"
      },
      "source": [
        "# Comment\n",
        "### Both the approaches here yield a similar training quality and convergence time ,this is due to large number of training examples per class in the standard mnist dataset."
      ]
    },
    {
      "cell_type": "markdown",
      "metadata": {
        "id": "8pztKgF2Yw9d"
      },
      "source": [
        "# Part3"
      ]
    },
    {
      "cell_type": "code",
      "metadata": {
        "id": "ND0dIFyLHG9w"
      },
      "source": [
        "categories=[str(i) for i in range(0,10)]"
      ],
      "execution_count": 30,
      "outputs": []
    },
    {
      "cell_type": "code",
      "metadata": {
        "id": "5GUJJU59HHAl"
      },
      "source": [
        "data_path = osp.join(\"/content/content/MyDrive/Data/IITMIDAS/mnistTask3/mnistTask3/mnistTask\")\n",
        "num_train_per_cat=1\n",
        "train_image_paths, test_image_paths, train_labels, test_labels = get_image_paths(data_path,categories,num_train_per_cat,'.jpg')"
      ],
      "execution_count": null,
      "outputs": []
    },
    {
      "cell_type": "code",
      "metadata": {
        "id": "8qNFy4GMHHF6"
      },
      "source": [
        "train_images=get_images(train_image_paths)\n",
        "\n",
        "train_images=resize_images(train_images,28)"
      ],
      "execution_count": null,
      "outputs": []
    },
    {
      "cell_type": "code",
      "metadata": {
        "id": "SNA_z5eXHHKK"
      },
      "source": [
        "train_images =normalize_reshape(train_images)"
      ],
      "execution_count": null,
      "outputs": []
    },
    {
      "cell_type": "code",
      "metadata": {
        "id": "QMCf_D_O1as7"
      },
      "source": [
        "train_labels = keras.utils.to_categorical(train_labels_part1, 10)"
      ],
      "execution_count": null,
      "outputs": []
    },
    {
      "cell_type": "markdown",
      "metadata": {
        "id": "4VBrhpsrnvM4"
      },
      "source": [
        "### Since the mnistTask3 data is very large, saved the train data and labels after retrieving them in their array form."
      ]
    },
    {
      "cell_type": "code",
      "metadata": {
        "id": "dHcYWEtUeyrb"
      },
      "source": [
        "# with open(\"/content/content/MyDrive/Data/IITMIDAS/mnistTask3/mnistTask3/train_images.pkl\",'wb') as f: \n",
        "#   pickle.dump(train_images,f)\n"
      ],
      "execution_count": null,
      "outputs": []
    },
    {
      "cell_type": "code",
      "metadata": {
        "id": "TMx2pQtMkSkS"
      },
      "source": [
        "# with open(\"/content/content/MyDrive/Data/IITMIDAS/mnistTask3/mnistTask3/train_labels.pkl\",'wb') as f: \n",
        "#   pickle.dump(train_labels,f)"
      ],
      "execution_count": null,
      "outputs": []
    },
    {
      "cell_type": "code",
      "metadata": {
        "id": "cfmSU15zfRB_"
      },
      "source": [
        "with open(\"/content/content/MyDrive/Data/IITMIDAS/mnistTask3/mnistTask3/train_images.pkl\",'rb') as f:\n",
        " train_images= pickle.load(f)"
      ],
      "execution_count": 14,
      "outputs": []
    },
    {
      "cell_type": "code",
      "metadata": {
        "id": "CkyT4x44uLVD"
      },
      "source": [
        "with open(\"/content/content/MyDrive/Data/IITMIDAS/mnistTask3/mnistTask3/train_labels.pkl\",'rb') as f:\n",
        " train_labels= pickle.load(f)"
      ],
      "execution_count": 15,
      "outputs": []
    },
    {
      "cell_type": "code",
      "metadata": {
        "id": "aPFtAPd8DlE-"
      },
      "source": [
        "train_labels = keras.utils.to_categorical(train_labels, 10)"
      ],
      "execution_count": 16,
      "outputs": []
    },
    {
      "cell_type": "markdown",
      "metadata": {
        "id": "RprZg1VnAVwv"
      },
      "source": [
        "### Loading Mnist data"
      ]
    },
    {
      "cell_type": "code",
      "metadata": {
        "colab": {
          "base_uri": "https://localhost:8080/"
        },
        "id": "SkwdwDk0w2eM",
        "outputId": "0904528f-615a-41ab-cbb2-764e83332359"
      },
      "source": [
        "(x_train, y_train), (x_test, y_test) = mnist.load_data()\n",
        "print(x_train.shape, y_train.shape)"
      ],
      "execution_count": null,
      "outputs": [
        {
          "output_type": "stream",
          "text": [
            "(60000, 28, 28) (60000,)\n"
          ],
          "name": "stdout"
        }
      ]
    },
    {
      "cell_type": "code",
      "metadata": {
        "id": "xW_0U_YMw2eP"
      },
      "source": [
        "sample_indices=sample(list(range(len(x_test))),100)"
      ],
      "execution_count": null,
      "outputs": []
    },
    {
      "cell_type": "code",
      "metadata": {
        "id": "hwuV2W4nw2eQ"
      },
      "source": [
        "x_test_sample=np.array([x_test[i] for i in sample_indices])\n",
        "y_test_sample=np.array([y_test[i] for i in sample_indices])"
      ],
      "execution_count": null,
      "outputs": []
    },
    {
      "cell_type": "markdown",
      "metadata": {
        "id": "DTStf79V0ugd"
      },
      "source": [
        "## The images in mnist is with black background and white font while it is the opossite with the part 1 data, so here the images in the mnist transformed into the same font and background as it is with the given data in part 1"
      ]
    },
    {
      "cell_type": "code",
      "metadata": {
        "colab": {
          "base_uri": "https://localhost:8080/",
          "height": 45
        },
        "id": "luI48POkw2eR",
        "outputId": "09ef137e-95a6-4376-f206-c699abcf4999"
      },
      "source": [
        "cv2_imshow(x_test_sample[0])"
      ],
      "execution_count": null,
      "outputs": [
        {
          "output_type": "display_data",
          "data": {
            "image/png": "[encoded data removed]",
            "text/plain": [
              "<PIL.Image.Image image mode=L size=28x28 at 0x7F7A07EEB6D0>"
            ]
          },
          "metadata": {
            "tags": []
          }
        }
      ]
    },
    {
      "cell_type": "code",
      "metadata": {
        "id": "l6tUCgr_w2eR"
      },
      "source": [
        "x_test_sample=transform_test(x_test_sample)"
      ],
      "execution_count": null,
      "outputs": []
    },
    {
      "cell_type": "code",
      "metadata": {
        "colab": {
          "base_uri": "https://localhost:8080/",
          "height": 45
        },
        "id": "HF1DgKyFw2eS",
        "outputId": "faaed2f5-7fff-4f87-f24a-bf16eb6732f9"
      },
      "source": [
        "cv2_imshow(x_test_sample[0])"
      ],
      "execution_count": null,
      "outputs": [
        {
          "output_type": "display_data",
          "data": {
            "image/png": "[encoded data removed]",
            "text/plain": [
              "<PIL.Image.Image image mode=L size=28x28 at 0x7F79CE331790>"
            ]
          },
          "metadata": {
            "tags": []
          }
        }
      ]
    },
    {
      "cell_type": "code",
      "metadata": {
        "id": "DPCAQwABw2eS"
      },
      "source": [
        "x_train=normalize_reshape(x_train)\n",
        "x_test=normalize_reshape(x_test)\n",
        "\n",
        "x_test=normalize_reshape(x_test)\n",
        "x_test_sample=normalize_reshape(x_test_sample)"
      ],
      "execution_count": null,
      "outputs": []
    },
    {
      "cell_type": "code",
      "metadata": {
        "id": "u8v7Ok3Ww2eT"
      },
      "source": [
        "y_train=keras.utils.to_categorical(y_train, 10)\n",
        "y_test=keras.utils.to_categorical(y_test, 10)\n",
        "y_test_sample=keras.utils.to_categorical(y_test_sample, 10)"
      ],
      "execution_count": null,
      "outputs": []
    },
    {
      "cell_type": "markdown",
      "metadata": {
        "id": "XdGk6fHjMmSQ"
      },
      "source": [
        "## Part3 case1: \n",
        "### Training  a model using the mnistTask3 data provided and the  validating using the Mnist test data\n"
      ]
    },
    {
      "cell_type": "code",
      "metadata": {
        "id": "TZuX22gH5tbz"
      },
      "source": [
        "model=get_model((28,28),10,0.001)"
      ],
      "execution_count": 30,
      "outputs": []
    },
    {
      "cell_type": "code",
      "metadata": {
        "id": "N29g4skanrsI",
        "colab": {
          "base_uri": "https://localhost:8080/"
        },
        "outputId": "2fce42e5-e7d4-4453-ea1a-1c83748bb6de"
      },
      "source": [
        "checkpoint = ModelCheckpoint(filepath=\"/content/content/MyDrive/Data/IITMIDAS/mnistTask3/Task1 test/train/checkpoint5.hdf5\", monitor='val_accuracy', verbose=1, save_best_only=True, mode='max')\n",
        "history = model.fit(train_images,train_labels,epochs = 20,batch_size=500,validation_data = (x_test,y_test),shuffle=True,callbacks=[checkpoint])"
      ],
      "execution_count": 31,
      "outputs": [
        {
          "output_type": "stream",
          "text": [
            "Epoch 1/20\n",
            "121/121 [==============================] - 139s 1s/step - loss: 2.3039 - accuracy: 0.1043 - val_loss: 2.5870 - val_accuracy: 0.0010\n",
            "\n",
            "Epoch 00001: val_accuracy improved from -inf to 0.00100, saving model to /content/content/MyDrive/Data/IITMIDAS/mnistTask3/Task1 test/train/checkpoint5.hdf5\n",
            "Epoch 2/20\n",
            "121/121 [==============================] - 138s 1s/step - loss: 2.2800 - accuracy: 0.1119 - val_loss: 3.2840 - val_accuracy: 4.0000e-04\n",
            "\n",
            "Epoch 00002: val_accuracy did not improve from 0.00100\n",
            "Epoch 3/20\n",
            "121/121 [==============================] - 138s 1s/step - loss: 2.2521 - accuracy: 0.1137 - val_loss: 3.8249 - val_accuracy: 4.0000e-04\n",
            "\n",
            "Epoch 00003: val_accuracy did not improve from 0.00100\n",
            "Epoch 4/20\n",
            "121/121 [==============================] - 138s 1s/step - loss: 2.2372 - accuracy: 0.1163 - val_loss: 4.1648 - val_accuracy: 2.0000e-04\n",
            "\n",
            "Epoch 00004: val_accuracy did not improve from 0.00100\n",
            "Epoch 5/20\n",
            "121/121 [==============================] - 138s 1s/step - loss: 2.2280 - accuracy: 0.1172 - val_loss: 4.6340 - val_accuracy: 1.0000e-04\n",
            "\n",
            "Epoch 00005: val_accuracy did not improve from 0.00100\n",
            "Epoch 6/20\n",
            "121/121 [==============================] - 139s 1s/step - loss: 2.2247 - accuracy: 0.1170 - val_loss: 4.9333 - val_accuracy: 0.0000e+00\n",
            "\n",
            "Epoch 00006: val_accuracy did not improve from 0.00100\n",
            "Epoch 7/20\n",
            "121/121 [==============================] - 138s 1s/step - loss: 2.2194 - accuracy: 0.1202 - val_loss: 4.8586 - val_accuracy: 1.0000e-04\n",
            "\n",
            "Epoch 00007: val_accuracy did not improve from 0.00100\n",
            "Epoch 8/20\n",
            "121/121 [==============================] - 138s 1s/step - loss: 2.2174 - accuracy: 0.1245 - val_loss: 4.9594 - val_accuracy: 2.0000e-04\n",
            "\n",
            "Epoch 00008: val_accuracy did not improve from 0.00100\n",
            "Epoch 9/20\n",
            "121/121 [==============================] - 138s 1s/step - loss: 2.2159 - accuracy: 0.1269 - val_loss: 5.1329 - val_accuracy: 4.0000e-04\n",
            "\n",
            "Epoch 00009: val_accuracy did not improve from 0.00100\n",
            "Epoch 10/20\n",
            "121/121 [==============================] - 138s 1s/step - loss: 2.2139 - accuracy: 0.1242 - val_loss: 5.5248 - val_accuracy: 2.0000e-04\n",
            "\n",
            "Epoch 00010: val_accuracy did not improve from 0.00100\n",
            "Epoch 11/20\n",
            "121/121 [==============================] - 138s 1s/step - loss: 2.2106 - accuracy: 0.1254 - val_loss: 5.5560 - val_accuracy: 2.0000e-04\n",
            "\n",
            "Epoch 00011: val_accuracy did not improve from 0.00100\n",
            "Epoch 12/20\n",
            "121/121 [==============================] - 138s 1s/step - loss: 2.2087 - accuracy: 0.1279 - val_loss: 5.5109 - val_accuracy: 3.0000e-04\n",
            "\n",
            "Epoch 00012: val_accuracy did not improve from 0.00100\n",
            "Epoch 13/20\n",
            "121/121 [==============================] - 138s 1s/step - loss: 2.2068 - accuracy: 0.1278 - val_loss: 5.6947 - val_accuracy: 3.0000e-04\n",
            "\n",
            "Epoch 00013: val_accuracy did not improve from 0.00100\n",
            "Epoch 14/20\n",
            "121/121 [==============================] - 138s 1s/step - loss: 2.2030 - accuracy: 0.1322 - val_loss: 5.6388 - val_accuracy: 3.0000e-04\n",
            "\n",
            "Epoch 00014: val_accuracy did not improve from 0.00100\n",
            "Epoch 15/20\n",
            "121/121 [==============================] - 138s 1s/step - loss: 2.2017 - accuracy: 0.1302 - val_loss: 6.1663 - val_accuracy: 2.0000e-04\n",
            "\n",
            "Epoch 00015: val_accuracy did not improve from 0.00100\n",
            "Epoch 16/20\n",
            "121/121 [==============================] - 138s 1s/step - loss: 2.2004 - accuracy: 0.1333 - val_loss: 5.9801 - val_accuracy: 6.0000e-04\n",
            "\n",
            "Epoch 00016: val_accuracy did not improve from 0.00100\n",
            "Epoch 17/20\n",
            "121/121 [==============================] - 138s 1s/step - loss: 2.1986 - accuracy: 0.1338 - val_loss: 6.1649 - val_accuracy: 1.0000e-04\n",
            "\n",
            "Epoch 00017: val_accuracy did not improve from 0.00100\n",
            "Epoch 18/20\n",
            "121/121 [==============================] - 138s 1s/step - loss: 2.1947 - accuracy: 0.1392 - val_loss: 6.2293 - val_accuracy: 4.0000e-04\n",
            "\n",
            "Epoch 00018: val_accuracy did not improve from 0.00100\n",
            "Epoch 19/20\n",
            "121/121 [==============================] - 138s 1s/step - loss: 2.1927 - accuracy: 0.1400 - val_loss: 6.2336 - val_accuracy: 6.0000e-04\n",
            "\n",
            "Epoch 00019: val_accuracy did not improve from 0.00100\n",
            "Epoch 20/20\n",
            "121/121 [==============================] - 138s 1s/step - loss: 2.1900 - accuracy: 0.1436 - val_loss: 6.4269 - val_accuracy: 5.0000e-04\n",
            "\n",
            "Epoch 00020: val_accuracy did not improve from 0.00100\n"
          ],
          "name": "stdout"
        }
      ]
    },
    {
      "cell_type": "code",
      "metadata": {
        "id": "dntuCohvEtCh"
      },
      "source": [
        "model = load_model(\"/content/content/MyDrive/Data/IITMIDAS/mnistTask3/Task1 test/train/checkpoint5.hdf5\")"
      ],
      "execution_count": 32,
      "outputs": []
    },
    {
      "cell_type": "markdown",
      "metadata": {
        "id": "_4lGOmWdaSiO"
      },
      "source": [
        "#### Making prediction"
      ]
    },
    {
      "cell_type": "code",
      "metadata": {
        "id": "yFBMa4orEtCi"
      },
      "source": [
        "y_pred=model.predict(x_test)"
      ],
      "execution_count": 33,
      "outputs": []
    },
    {
      "cell_type": "markdown",
      "metadata": {
        "id": "v1lHcwLX3xx5"
      },
      "source": [
        "### Accuracy Score"
      ]
    },
    {
      "cell_type": "code",
      "metadata": {
        "id": "LrHgICznEtCi",
        "colab": {
          "base_uri": "https://localhost:8080/"
        },
        "outputId": "3aeb58a1-1d90-4730-b4d4-f7cca21ab40a"
      },
      "source": [
        "accuracy_score(y_test.argmax(axis=1),y_pred.argmax(axis=1))"
      ],
      "execution_count": 34,
      "outputs": [
        {
          "output_type": "execute_result",
          "data": {
            "text/plain": [
              "0.001"
            ]
          },
          "metadata": {
            "tags": []
          },
          "execution_count": 34
        }
      ]
    },
    {
      "cell_type": "markdown",
      "metadata": {
        "id": "h328m5mT30C5"
      },
      "source": [
        "### Precision Score"
      ]
    },
    {
      "cell_type": "code",
      "metadata": {
        "id": "5FcW54F8EtCj",
        "colab": {
          "base_uri": "https://localhost:8080/"
        },
        "outputId": "c2788aaa-852d-414d-e003-617630854056"
      },
      "source": [
        "precision_score(y_test.argmax(axis=1),y_pred.argmax(axis=1),average='weighted')"
      ],
      "execution_count": 35,
      "outputs": [
        {
          "output_type": "execute_result",
          "data": {
            "text/plain": [
              "0.0009676446096254541"
            ]
          },
          "metadata": {
            "tags": []
          },
          "execution_count": 35
        }
      ]
    },
    {
      "cell_type": "markdown",
      "metadata": {
        "id": "NwXR3vYJ34qd"
      },
      "source": [
        "### Recall Score"
      ]
    },
    {
      "cell_type": "code",
      "metadata": {
        "id": "xE957AWIEtCj",
        "colab": {
          "base_uri": "https://localhost:8080/"
        },
        "outputId": "cdc08d94-40c3-44ac-f37a-53e0115ab65b"
      },
      "source": [
        "recall_score(y_test.argmax(axis=1),y_pred.argmax(axis=1),average='weighted')"
      ],
      "execution_count": 36,
      "outputs": [
        {
          "output_type": "execute_result",
          "data": {
            "text/plain": [
              "0.001"
            ]
          },
          "metadata": {
            "tags": []
          },
          "execution_count": 36
        }
      ]
    },
    {
      "cell_type": "markdown",
      "metadata": {
        "id": "uR7QQ_jO37wt"
      },
      "source": [
        "### F1 Score"
      ]
    },
    {
      "cell_type": "code",
      "metadata": {
        "id": "P-DHNRmWEtCk",
        "colab": {
          "base_uri": "https://localhost:8080/"
        },
        "outputId": "d2e0ef78-85c1-4eae-be72-cc19e71fc799"
      },
      "source": [
        "f1_score(y_test.argmax(axis=1),y_pred.argmax(axis=1),average='weighted')"
      ],
      "execution_count": 37,
      "outputs": [
        {
          "output_type": "execute_result",
          "data": {
            "text/plain": [
              "0.0005140614980021833"
            ]
          },
          "metadata": {
            "tags": []
          },
          "execution_count": 37
        }
      ]
    },
    {
      "cell_type": "markdown",
      "metadata": {
        "id": "sdoGuad9394Q"
      },
      "source": [
        "### Confusion Matrix"
      ]
    },
    {
      "cell_type": "code",
      "metadata": {
        "id": "8j19-WivEtCk",
        "colab": {
          "base_uri": "https://localhost:8080/"
        },
        "outputId": "7cd41f63-13cc-4ff0-f09f-fc868fe3a5bc"
      },
      "source": [
        "confusion_matrix(y_test.argmax(axis=1),y_pred.argmax(axis=1),labels=list(range(10)))"
      ],
      "execution_count": 38,
      "outputs": [
        {
          "output_type": "execute_result",
          "data": {
            "text/plain": [
              "array([[  0, 347,  28,   5,   5,   1,   2,   8,   0, 584],\n",
              "       [ 21,   8,   0,  11, 164, 432, 451,   1,   0,  47],\n",
              "       [ 31, 976,   1,   0,   1,   0,  20,   0,   0,   3],\n",
              "       [ 90, 362,   0,   0,   0,   0, 556,   2,   0,   0],\n",
              "       [178, 773,  20,   1,   0,   5,   3,   2,   0,   0],\n",
              "       [ 23, 708,   0,   2,  20,   0, 132,   1,   0,   6],\n",
              "       [ 15, 869,   0,  11,   1,   1,   1,  24,   0,  36],\n",
              "       [ 37, 789,   1,  27,   0,  34, 115,   0,  25,   0],\n",
              "       [179, 344,  33,   0,  50,   0, 125, 239,   0,   4],\n",
              "       [180, 721,  55,   1,   0,   2,  50,   0,   0,   0]])"
            ]
          },
          "metadata": {
            "tags": []
          },
          "execution_count": 38
        }
      ]
    },
    {
      "cell_type": "code",
      "metadata": {
        "id": "SC5WzV0tnrv0",
        "colab": {
          "base_uri": "https://localhost:8080/",
          "height": 435
        },
        "outputId": "9c1fe123-bb15-4073-bd5e-3c61d44ddd7e"
      },
      "source": [
        "acc = history.history['accuracy']\n",
        "val_acc = history.history['val_accuracy']\n",
        "loss = history.history['loss']\n",
        "val_loss = history.history['val_loss']\n",
        "\n",
        "epochs_range = range(20)\n",
        "\n",
        "plt.figure(figsize=(15, 15))\n",
        "plt.subplot(2, 2, 1)\n",
        "plt.plot(epochs_range, acc, label='Training Accuracy')\n",
        "plt.plot(epochs_range, val_acc, label='Validation Accuracy')\n",
        "plt.legend(loc='lower right')\n",
        "plt.title('Training and Validation Accuracy')\n",
        "\n",
        "plt.subplot(2, 2, 2)\n",
        "plt.plot(epochs_range, loss, label='Training Loss')\n",
        "plt.plot(epochs_range, val_loss, label='Validation Loss')\n",
        "plt.legend(loc='upper right')\n",
        "plt.title('Training and Validation Loss')\n",
        "plt.savefig(\"/content/content/MyDrive/Data/IITMIDAS/mnistTask3/Task1 test/train/task231.png\")\n",
        "plt.show()"
      ],
      "execution_count": 39,
      "outputs": [
        {
          "output_type": "display_data",
          "data": {
            "image/png": "[encoded data removed]",
            "text/plain": [
              "<Figure size 1080x1080 with 2 Axes>"
            ]
          },
          "metadata": {
            "tags": [],
            "needs_background": "light"
          }
        }
      ]
    },
    {
      "cell_type": "markdown",
      "metadata": {
        "id": "SOMIl9NVeARO"
      },
      "source": [
        "# Comment\n",
        "## Training using the misclassified mnistTask3 dataset and validating using  the standard Mnist test set fails miserably."
      ]
    },
    {
      "cell_type": "markdown",
      "metadata": {
        "id": "p834rXRILNbx"
      },
      "source": [
        "## Part3 case2: \n",
        "### Pre-training a model using the data in Part1, training  using the mnistTask3 data provided and the  testing with the Mnist test data\n"
      ]
    },
    {
      "cell_type": "code",
      "metadata": {
        "id": "I1awHFDKuAND"
      },
      "source": [
        "categories=get_categories_task1test(10)"
      ],
      "execution_count": 55,
      "outputs": []
    },
    {
      "cell_type": "code",
      "metadata": {
        "id": "ieWZzSqwuAQr"
      },
      "source": [
        "data_path = osp.join(\"/content/content/MyDrive/Data/IITMIDAS/mnistTask3/Task1 test/train/\")\n",
        "num_train_per_cat =1\n",
        "categories=get_categories_task1test(10)\n",
        "train_image_paths_part1, test_image_paths_part1, train_labels_part1, test_labels_part1 = get_image_paths(data_path,categories,num_train_per_cat,'.png')\n",
        "train_labels_part1=transform_categories(train_labels_part1,categories,10)\n"
      ],
      "execution_count": 56,
      "outputs": []
    },
    {
      "cell_type": "code",
      "metadata": {
        "id": "LBW8w8CB1hX8"
      },
      "source": [
        "train_images_part1=get_images(train_image_paths_part1)\n",
        "\n",
        "train_images_part1=resize_images(train_images_part1,28)"
      ],
      "execution_count": 57,
      "outputs": []
    },
    {
      "cell_type": "code",
      "metadata": {
        "id": "-mhmjJvA4g-x"
      },
      "source": [
        "train_images_part1 =normalize_reshape(train_images_part1)"
      ],
      "execution_count": 58,
      "outputs": []
    },
    {
      "cell_type": "code",
      "metadata": {
        "id": "UtjHZwFcvZgA"
      },
      "source": [
        ""
      ],
      "execution_count": null,
      "outputs": []
    },
    {
      "cell_type": "markdown",
      "metadata": {
        "id": "hoh6EadUYJKm"
      },
      "source": [
        "## Pre-training using the the dataset in part1 of the task"
      ]
    },
    {
      "cell_type": "code",
      "metadata": {
        "id": "HsKP1e7W6QOA"
      },
      "source": [
        "model=get_model((28,28),10,0.001)"
      ],
      "execution_count": 82,
      "outputs": []
    },
    {
      "cell_type": "code",
      "metadata": {
        "id": "_ekrKHnx0N4Z",
        "colab": {
          "base_uri": "https://localhost:8080/"
        },
        "outputId": "b7e91eb6-42e6-431a-8817-4fbdbd51e08f"
      },
      "source": [
        "checkpoint = ModelCheckpoint(filepath=\"/content/content/MyDrive/Data/IITMIDAS/mnistTask3/Task1 test/train/checkpoint6.hdf5\", monitor='val_accuracy', verbose=1, save_best_only=True, mode='max')\n",
        "history = model.fit(train_images_part1,train_labels_part1,epochs = 50,batch_size=100,validation_data = (x_test_sample,y_test_sample),shuffle=True,callbacks=[checkpoint])"
      ],
      "execution_count": 83,
      "outputs": [
        {
          "output_type": "stream",
          "text": [
            "Epoch 1/50\n",
            "4/4 [==============================] - 1s 64ms/step - loss: 2.3314 - accuracy: 0.0690 - val_loss: 2.3137 - val_accuracy: 0.0600\n",
            "\n",
            "Epoch 00001: val_accuracy improved from -inf to 0.06000, saving model to /content/content/MyDrive/Data/IITMIDAS/mnistTask3/Task1 test/train/checkpoint6.hdf5\n",
            "Epoch 2/50\n",
            "4/4 [==============================] - 0s 18ms/step - loss: 2.3180 - accuracy: 0.0920 - val_loss: 2.2977 - val_accuracy: 0.1200\n",
            "\n",
            "Epoch 00002: val_accuracy improved from 0.06000 to 0.12000, saving model to /content/content/MyDrive/Data/IITMIDAS/mnistTask3/Task1 test/train/checkpoint6.hdf5\n",
            "Epoch 3/50\n",
            "4/4 [==============================] - 0s 20ms/step - loss: 2.3103 - accuracy: 0.1087 - val_loss: 2.2969 - val_accuracy: 0.0900\n",
            "\n",
            "Epoch 00003: val_accuracy did not improve from 0.12000\n",
            "Epoch 4/50\n",
            "4/4 [==============================] - 0s 19ms/step - loss: 2.2986 - accuracy: 0.1003 - val_loss: 2.2943 - val_accuracy: 0.1800\n",
            "\n",
            "Epoch 00004: val_accuracy improved from 0.12000 to 0.18000, saving model to /content/content/MyDrive/Data/IITMIDAS/mnistTask3/Task1 test/train/checkpoint6.hdf5\n",
            "Epoch 5/50\n",
            "4/4 [==============================] - 0s 19ms/step - loss: 2.2940 - accuracy: 0.1117 - val_loss: 2.2891 - val_accuracy: 0.1200\n",
            "\n",
            "Epoch 00005: val_accuracy did not improve from 0.18000\n",
            "Epoch 6/50\n",
            "4/4 [==============================] - 0s 19ms/step - loss: 2.2837 - accuracy: 0.1027 - val_loss: 2.2767 - val_accuracy: 0.1400\n",
            "\n",
            "Epoch 00006: val_accuracy did not improve from 0.18000\n",
            "Epoch 7/50\n",
            "4/4 [==============================] - 0s 19ms/step - loss: 2.2678 - accuracy: 0.1533 - val_loss: 2.2498 - val_accuracy: 0.2700\n",
            "\n",
            "Epoch 00007: val_accuracy improved from 0.18000 to 0.27000, saving model to /content/content/MyDrive/Data/IITMIDAS/mnistTask3/Task1 test/train/checkpoint6.hdf5\n",
            "Epoch 8/50\n",
            "4/4 [==============================] - 0s 18ms/step - loss: 2.2275 - accuracy: 0.1783 - val_loss: 2.2014 - val_accuracy: 0.3100\n",
            "\n",
            "Epoch 00008: val_accuracy improved from 0.27000 to 0.31000, saving model to /content/content/MyDrive/Data/IITMIDAS/mnistTask3/Task1 test/train/checkpoint6.hdf5\n",
            "Epoch 9/50\n",
            "4/4 [==============================] - 0s 20ms/step - loss: 2.1684 - accuracy: 0.2877 - val_loss: 2.1076 - val_accuracy: 0.3900\n",
            "\n",
            "Epoch 00009: val_accuracy improved from 0.31000 to 0.39000, saving model to /content/content/MyDrive/Data/IITMIDAS/mnistTask3/Task1 test/train/checkpoint6.hdf5\n",
            "Epoch 10/50\n",
            "4/4 [==============================] - 0s 19ms/step - loss: 2.0551 - accuracy: 0.3193 - val_loss: 1.9730 - val_accuracy: 0.3500\n",
            "\n",
            "Epoch 00010: val_accuracy did not improve from 0.39000\n",
            "Epoch 11/50\n",
            "4/4 [==============================] - 0s 18ms/step - loss: 1.9079 - accuracy: 0.3413 - val_loss: 1.8927 - val_accuracy: 0.3300\n",
            "\n",
            "Epoch 00011: val_accuracy did not improve from 0.39000\n",
            "Epoch 12/50\n",
            "4/4 [==============================] - 0s 17ms/step - loss: 1.8083 - accuracy: 0.3780 - val_loss: 1.7780 - val_accuracy: 0.3400\n",
            "\n",
            "Epoch 00012: val_accuracy did not improve from 0.39000\n",
            "Epoch 13/50\n",
            "4/4 [==============================] - 0s 18ms/step - loss: 1.6328 - accuracy: 0.4347 - val_loss: 1.6081 - val_accuracy: 0.5400\n",
            "\n",
            "Epoch 00013: val_accuracy improved from 0.39000 to 0.54000, saving model to /content/content/MyDrive/Data/IITMIDAS/mnistTask3/Task1 test/train/checkpoint6.hdf5\n",
            "Epoch 14/50\n",
            "4/4 [==============================] - 0s 17ms/step - loss: 1.4114 - accuracy: 0.5870 - val_loss: 1.5570 - val_accuracy: 0.4700\n",
            "\n",
            "Epoch 00014: val_accuracy did not improve from 0.54000\n",
            "Epoch 15/50\n",
            "4/4 [==============================] - 0s 21ms/step - loss: 1.1492 - accuracy: 0.6830 - val_loss: 1.4763 - val_accuracy: 0.5500\n",
            "\n",
            "Epoch 00015: val_accuracy improved from 0.54000 to 0.55000, saving model to /content/content/MyDrive/Data/IITMIDAS/mnistTask3/Task1 test/train/checkpoint6.hdf5\n",
            "Epoch 16/50\n",
            "4/4 [==============================] - 0s 19ms/step - loss: 1.0834 - accuracy: 0.6727 - val_loss: 1.6169 - val_accuracy: 0.4300\n",
            "\n",
            "Epoch 00016: val_accuracy did not improve from 0.55000\n",
            "Epoch 17/50\n",
            "4/4 [==============================] - 0s 18ms/step - loss: 0.9008 - accuracy: 0.7210 - val_loss: 1.3546 - val_accuracy: 0.5100\n",
            "\n",
            "Epoch 00017: val_accuracy did not improve from 0.55000\n",
            "Epoch 18/50\n",
            "4/4 [==============================] - 0s 18ms/step - loss: 0.7770 - accuracy: 0.7377 - val_loss: 1.4116 - val_accuracy: 0.5200\n",
            "\n",
            "Epoch 00018: val_accuracy did not improve from 0.55000\n",
            "Epoch 19/50\n",
            "4/4 [==============================] - 0s 19ms/step - loss: 0.5866 - accuracy: 0.8080 - val_loss: 1.2255 - val_accuracy: 0.6800\n",
            "\n",
            "Epoch 00019: val_accuracy improved from 0.55000 to 0.68000, saving model to /content/content/MyDrive/Data/IITMIDAS/mnistTask3/Task1 test/train/checkpoint6.hdf5\n",
            "Epoch 20/50\n",
            "4/4 [==============================] - 0s 18ms/step - loss: 0.5313 - accuracy: 0.8160 - val_loss: 1.4213 - val_accuracy: 0.5100\n",
            "\n",
            "Epoch 00020: val_accuracy did not improve from 0.68000\n",
            "Epoch 21/50\n",
            "4/4 [==============================] - 0s 18ms/step - loss: 0.4425 - accuracy: 0.8537 - val_loss: 1.3667 - val_accuracy: 0.5400\n",
            "\n",
            "Epoch 00021: val_accuracy did not improve from 0.68000\n",
            "Epoch 22/50\n",
            "4/4 [==============================] - 0s 19ms/step - loss: 0.3883 - accuracy: 0.8620 - val_loss: 1.3519 - val_accuracy: 0.5600\n",
            "\n",
            "Epoch 00022: val_accuracy did not improve from 0.68000\n",
            "Epoch 23/50\n",
            "4/4 [==============================] - 0s 18ms/step - loss: 0.3201 - accuracy: 0.8667 - val_loss: 1.3107 - val_accuracy: 0.5900\n",
            "\n",
            "Epoch 00023: val_accuracy did not improve from 0.68000\n",
            "Epoch 24/50\n",
            "4/4 [==============================] - 0s 91ms/step - loss: 0.2834 - accuracy: 0.9130 - val_loss: 1.5547 - val_accuracy: 0.5400\n",
            "\n",
            "Epoch 00024: val_accuracy did not improve from 0.68000\n",
            "Epoch 25/50\n",
            "4/4 [==============================] - 0s 19ms/step - loss: 0.2945 - accuracy: 0.9057 - val_loss: 1.2205 - val_accuracy: 0.6300\n",
            "\n",
            "Epoch 00025: val_accuracy did not improve from 0.68000\n",
            "Epoch 26/50\n",
            "4/4 [==============================] - 0s 19ms/step - loss: 0.2274 - accuracy: 0.9390 - val_loss: 1.4802 - val_accuracy: 0.5400\n",
            "\n",
            "Epoch 00026: val_accuracy did not improve from 0.68000\n",
            "Epoch 27/50\n",
            "4/4 [==============================] - 0s 18ms/step - loss: 0.1945 - accuracy: 0.9400 - val_loss: 1.1589 - val_accuracy: 0.6200\n",
            "\n",
            "Epoch 00027: val_accuracy did not improve from 0.68000\n",
            "Epoch 28/50\n",
            "4/4 [==============================] - 0s 19ms/step - loss: 0.1571 - accuracy: 0.9520 - val_loss: 1.3053 - val_accuracy: 0.5900\n",
            "\n",
            "Epoch 00028: val_accuracy did not improve from 0.68000\n",
            "Epoch 29/50\n",
            "4/4 [==============================] - 0s 18ms/step - loss: 0.1671 - accuracy: 0.9570 - val_loss: 1.1814 - val_accuracy: 0.6400\n",
            "\n",
            "Epoch 00029: val_accuracy did not improve from 0.68000\n",
            "Epoch 30/50\n",
            "4/4 [==============================] - 0s 18ms/step - loss: 0.1550 - accuracy: 0.9643 - val_loss: 1.5163 - val_accuracy: 0.5700\n",
            "\n",
            "Epoch 00030: val_accuracy did not improve from 0.68000\n",
            "Epoch 31/50\n",
            "4/4 [==============================] - 0s 19ms/step - loss: 0.1492 - accuracy: 0.9507 - val_loss: 1.2334 - val_accuracy: 0.6200\n",
            "\n",
            "Epoch 00031: val_accuracy did not improve from 0.68000\n",
            "Epoch 32/50\n",
            "4/4 [==============================] - 0s 19ms/step - loss: 0.0990 - accuracy: 0.9800 - val_loss: 1.4097 - val_accuracy: 0.5700\n",
            "\n",
            "Epoch 00032: val_accuracy did not improve from 0.68000\n",
            "Epoch 33/50\n",
            "4/4 [==============================] - 0s 20ms/step - loss: 0.1010 - accuracy: 0.9730 - val_loss: 1.2933 - val_accuracy: 0.5800\n",
            "\n",
            "Epoch 00033: val_accuracy did not improve from 0.68000\n",
            "Epoch 34/50\n",
            "4/4 [==============================] - 0s 19ms/step - loss: 0.0843 - accuracy: 0.9827 - val_loss: 1.4377 - val_accuracy: 0.5300\n",
            "\n",
            "Epoch 00034: val_accuracy did not improve from 0.68000\n",
            "Epoch 35/50\n",
            "4/4 [==============================] - 0s 18ms/step - loss: 0.0887 - accuracy: 0.9710 - val_loss: 1.6041 - val_accuracy: 0.5400\n",
            "\n",
            "Epoch 00035: val_accuracy did not improve from 0.68000\n",
            "Epoch 36/50\n",
            "4/4 [==============================] - 0s 20ms/step - loss: 0.0614 - accuracy: 0.9870 - val_loss: 1.4029 - val_accuracy: 0.5700\n",
            "\n",
            "Epoch 00036: val_accuracy did not improve from 0.68000\n",
            "Epoch 37/50\n",
            "4/4 [==============================] - 0s 19ms/step - loss: 0.0831 - accuracy: 0.9773 - val_loss: 1.3807 - val_accuracy: 0.6000\n",
            "\n",
            "Epoch 00037: val_accuracy did not improve from 0.68000\n",
            "Epoch 38/50\n",
            "4/4 [==============================] - 0s 18ms/step - loss: 0.0807 - accuracy: 0.9793 - val_loss: 1.5803 - val_accuracy: 0.5100\n",
            "\n",
            "Epoch 00038: val_accuracy did not improve from 0.68000\n",
            "Epoch 39/50\n",
            "4/4 [==============================] - 0s 19ms/step - loss: 0.0474 - accuracy: 0.9963 - val_loss: 1.6024 - val_accuracy: 0.5700\n",
            "\n",
            "Epoch 00039: val_accuracy did not improve from 0.68000\n",
            "Epoch 40/50\n",
            "4/4 [==============================] - 0s 18ms/step - loss: 0.0851 - accuracy: 0.9690 - val_loss: 1.4010 - val_accuracy: 0.6100\n",
            "\n",
            "Epoch 00040: val_accuracy did not improve from 0.68000\n",
            "Epoch 41/50\n",
            "4/4 [==============================] - 0s 18ms/step - loss: 0.0669 - accuracy: 0.9800 - val_loss: 1.5034 - val_accuracy: 0.6300\n",
            "\n",
            "Epoch 00041: val_accuracy did not improve from 0.68000\n",
            "Epoch 42/50\n",
            "4/4 [==============================] - 0s 19ms/step - loss: 0.0770 - accuracy: 0.9760 - val_loss: 1.6717 - val_accuracy: 0.5200\n",
            "\n",
            "Epoch 00042: val_accuracy did not improve from 0.68000\n",
            "Epoch 43/50\n",
            "4/4 [==============================] - 0s 18ms/step - loss: 0.0535 - accuracy: 0.9810 - val_loss: 1.3443 - val_accuracy: 0.6300\n",
            "\n",
            "Epoch 00043: val_accuracy did not improve from 0.68000\n",
            "Epoch 44/50\n",
            "4/4 [==============================] - 0s 19ms/step - loss: 0.0667 - accuracy: 0.9807 - val_loss: 1.6404 - val_accuracy: 0.5500\n",
            "\n",
            "Epoch 00044: val_accuracy did not improve from 0.68000\n",
            "Epoch 45/50\n",
            "4/4 [==============================] - 0s 20ms/step - loss: 0.0403 - accuracy: 0.9890 - val_loss: 1.6001 - val_accuracy: 0.5700\n",
            "\n",
            "Epoch 00045: val_accuracy did not improve from 0.68000\n",
            "Epoch 46/50\n",
            "4/4 [==============================] - 0s 21ms/step - loss: 0.0379 - accuracy: 0.9927 - val_loss: 1.4300 - val_accuracy: 0.5800\n",
            "\n",
            "Epoch 00046: val_accuracy did not improve from 0.68000\n",
            "Epoch 47/50\n",
            "4/4 [==============================] - 0s 19ms/step - loss: 0.0497 - accuracy: 0.9807 - val_loss: 1.5975 - val_accuracy: 0.5800\n",
            "\n",
            "Epoch 00047: val_accuracy did not improve from 0.68000\n",
            "Epoch 48/50\n",
            "4/4 [==============================] - 0s 18ms/step - loss: 0.0435 - accuracy: 0.9807 - val_loss: 1.7314 - val_accuracy: 0.5500\n",
            "\n",
            "Epoch 00048: val_accuracy did not improve from 0.68000\n",
            "Epoch 49/50\n",
            "4/4 [==============================] - 0s 18ms/step - loss: 0.0453 - accuracy: 0.9893 - val_loss: 1.4377 - val_accuracy: 0.6300\n",
            "\n",
            "Epoch 00049: val_accuracy did not improve from 0.68000\n",
            "Epoch 50/50\n",
            "4/4 [==============================] - 0s 20ms/step - loss: 0.0327 - accuracy: 0.9930 - val_loss: 1.8136 - val_accuracy: 0.5100\n",
            "\n",
            "Epoch 00050: val_accuracy did not improve from 0.68000\n"
          ],
          "name": "stdout"
        }
      ]
    },
    {
      "cell_type": "markdown",
      "metadata": {
        "id": "EpkxP1OSYcaK"
      },
      "source": [
        "## Training using the mnistTask3 dataset and validating using the test set of the standard Mnist data"
      ]
    },
    {
      "cell_type": "code",
      "metadata": {
        "id": "_vqhE8sD6xHw"
      },
      "source": [
        "model = load_model(\"/content/content/MyDrive/Data/IITMIDAS/mnistTask3/Task1 test/train/checkpoint6.hdf5\")"
      ],
      "execution_count": 40,
      "outputs": []
    },
    {
      "cell_type": "code",
      "metadata": {
        "id": "DgrHyYvE4kdZ",
        "colab": {
          "base_uri": "https://localhost:8080/"
        },
        "outputId": "1e35d859-3f3f-4aec-8c08-bf6f3ad9e4b0"
      },
      "source": [
        "checkpoint = ModelCheckpoint(filepath=\"/content/content/MyDrive/Data/IITMIDAS/mnistTask3/Task1 test/train/checkpoint7.hdf5\", monitor='val_accuracy', verbose=1, save_best_only=True, mode='max')\n",
        "history = model.fit(train_images,train_labels,epochs = 20,validation_data = (x_test,y_test),batch_size=500,shuffle=True,callbacks=[checkpoint])"
      ],
      "execution_count": 41,
      "outputs": [
        {
          "output_type": "stream",
          "text": [
            "Epoch 1/20\n",
            "121/121 [==============================] - 140s 1s/step - loss: 2.3583 - accuracy: 0.1011 - val_loss: 2.3871 - val_accuracy: 0.0076\n",
            "\n",
            "Epoch 00001: val_accuracy improved from -inf to 0.00760, saving model to /content/content/MyDrive/Data/IITMIDAS/mnistTask3/Task1 test/train/checkpoint7.hdf5\n",
            "Epoch 2/20\n",
            "121/121 [==============================] - 139s 1s/step - loss: 2.2923 - accuracy: 0.1103 - val_loss: 2.5622 - val_accuracy: 8.0000e-04\n",
            "\n",
            "Epoch 00002: val_accuracy did not improve from 0.00760\n",
            "Epoch 3/20\n",
            "121/121 [==============================] - 139s 1s/step - loss: 2.2815 - accuracy: 0.1128 - val_loss: 2.8016 - val_accuracy: 0.0013\n",
            "\n",
            "Epoch 00003: val_accuracy did not improve from 0.00760\n",
            "Epoch 4/20\n",
            "121/121 [==============================] - 139s 1s/step - loss: 2.2703 - accuracy: 0.1123 - val_loss: 3.0067 - val_accuracy: 0.0011\n",
            "\n",
            "Epoch 00004: val_accuracy did not improve from 0.00760\n",
            "Epoch 5/20\n",
            "121/121 [==============================] - 139s 1s/step - loss: 2.2598 - accuracy: 0.1158 - val_loss: 3.3170 - val_accuracy: 3.0000e-04\n",
            "\n",
            "Epoch 00005: val_accuracy did not improve from 0.00760\n",
            "Epoch 6/20\n",
            "121/121 [==============================] - 139s 1s/step - loss: 2.2499 - accuracy: 0.1135 - val_loss: 3.6159 - val_accuracy: 3.0000e-04\n",
            "\n",
            "Epoch 00006: val_accuracy did not improve from 0.00760\n",
            "Epoch 7/20\n",
            "121/121 [==============================] - 139s 1s/step - loss: 2.2408 - accuracy: 0.1150 - val_loss: 3.8340 - val_accuracy: 0.0013\n",
            "\n",
            "Epoch 00007: val_accuracy did not improve from 0.00760\n",
            "Epoch 8/20\n",
            "121/121 [==============================] - ETA: 0s - loss: 2.2353 - accuracy: 0.1171\n",
            "Epoch 00008: val_accuracy did not improve from 0.00760\n",
            "Epoch 9/20\n",
            "121/121 [==============================] - 139s 1s/step - loss: 2.2318 - accuracy: 0.1190 - val_loss: 4.2189 - val_accuracy: 0.0011\n",
            "\n",
            "Epoch 00009: val_accuracy did not improve from 0.00760\n",
            "Epoch 10/20\n",
            "121/121 [==============================] - 138s 1s/step - loss: 2.2275 - accuracy: 0.1196 - val_loss: 4.3467 - val_accuracy: 2.0000e-04\n",
            "\n",
            "Epoch 00010: val_accuracy did not improve from 0.00760\n",
            "Epoch 11/20\n",
            "121/121 [==============================] - 138s 1s/step - loss: 2.2254 - accuracy: 0.1198 - val_loss: 4.4319 - val_accuracy: 2.0000e-04\n",
            "\n",
            "Epoch 00011: val_accuracy did not improve from 0.00760\n",
            "Epoch 12/20\n",
            "121/121 [==============================] - 138s 1s/step - loss: 2.2226 - accuracy: 0.1199 - val_loss: 4.5674 - val_accuracy: 5.0000e-04\n",
            "\n",
            "Epoch 00012: val_accuracy did not improve from 0.00760\n",
            "Epoch 13/20\n",
            "121/121 [==============================] - 138s 1s/step - loss: 2.2191 - accuracy: 0.1207 - val_loss: 4.7171 - val_accuracy: 3.0000e-04\n",
            "\n",
            "Epoch 00013: val_accuracy did not improve from 0.00760\n",
            "Epoch 14/20\n",
            "121/121 [==============================] - 138s 1s/step - loss: 2.2175 - accuracy: 0.1225 - val_loss: 4.8084 - val_accuracy: 7.0000e-04\n",
            "\n",
            "Epoch 00014: val_accuracy did not improve from 0.00760\n",
            "Epoch 15/20\n",
            "121/121 [==============================] - 138s 1s/step - loss: 2.2164 - accuracy: 0.1253 - val_loss: 4.9767 - val_accuracy: 8.0000e-04\n",
            "\n",
            "Epoch 00015: val_accuracy did not improve from 0.00760\n",
            "Epoch 16/20\n",
            "121/121 [==============================] - 138s 1s/step - loss: 2.2152 - accuracy: 0.1238 - val_loss: 5.0497 - val_accuracy: 3.0000e-04\n",
            "\n",
            "Epoch 00016: val_accuracy did not improve from 0.00760\n",
            "Epoch 17/20\n",
            "121/121 [==============================] - 138s 1s/step - loss: 2.2133 - accuracy: 0.1252 - val_loss: 5.1681 - val_accuracy: 3.0000e-04\n",
            "\n",
            "Epoch 00017: val_accuracy did not improve from 0.00760\n",
            "Epoch 18/20\n",
            "121/121 [==============================] - 138s 1s/step - loss: 2.2117 - accuracy: 0.1270 - val_loss: 4.9925 - val_accuracy: 3.0000e-04\n",
            "\n",
            "Epoch 00018: val_accuracy did not improve from 0.00760\n",
            "Epoch 19/20\n",
            "121/121 [==============================] - 138s 1s/step - loss: 2.2102 - accuracy: 0.1289 - val_loss: 5.1646 - val_accuracy: 5.0000e-04\n",
            "\n",
            "Epoch 00019: val_accuracy did not improve from 0.00760\n",
            "Epoch 20/20\n",
            "121/121 [==============================] - 138s 1s/step - loss: 2.2084 - accuracy: 0.1309 - val_loss: 5.4300 - val_accuracy: 2.0000e-04\n",
            "\n",
            "Epoch 00020: val_accuracy did not improve from 0.00760\n"
          ],
          "name": "stdout"
        }
      ]
    },
    {
      "cell_type": "code",
      "metadata": {
        "id": "uriVggrME4Sd"
      },
      "source": [
        "model = load_model(\"/content/content/MyDrive/Data/IITMIDAS/mnistTask3/Task1 test/train/checkpoint7.hdf5\")"
      ],
      "execution_count": 42,
      "outputs": []
    },
    {
      "cell_type": "markdown",
      "metadata": {
        "id": "SYOPN9uMaUL8"
      },
      "source": [
        "#### Making prediction"
      ]
    },
    {
      "cell_type": "code",
      "metadata": {
        "id": "2NzTdOI0E4Se"
      },
      "source": [
        "y_pred=model.predict(x_test)"
      ],
      "execution_count": 43,
      "outputs": []
    },
    {
      "cell_type": "markdown",
      "metadata": {
        "id": "eL-omTHf7xoI"
      },
      "source": [
        "### Accuracy Score"
      ]
    },
    {
      "cell_type": "code",
      "metadata": {
        "id": "ZkKHSQSYE4Se",
        "colab": {
          "base_uri": "https://localhost:8080/"
        },
        "outputId": "5ac7062b-f781-4c4b-c914-5a9286f26796"
      },
      "source": [
        "accuracy_score(y_test.argmax(axis=1),y_pred.argmax(axis=1))"
      ],
      "execution_count": 44,
      "outputs": [
        {
          "output_type": "execute_result",
          "data": {
            "text/plain": [
              "0.0076"
            ]
          },
          "metadata": {
            "tags": []
          },
          "execution_count": 44
        }
      ]
    },
    {
      "cell_type": "markdown",
      "metadata": {
        "id": "yhXVq1Cl7z8b"
      },
      "source": [
        "### Precision Score"
      ]
    },
    {
      "cell_type": "code",
      "metadata": {
        "id": "EorMQCtBE4Sf",
        "colab": {
          "base_uri": "https://localhost:8080/"
        },
        "outputId": "a4332603-bb06-425f-ae1f-5d37dafb444c"
      },
      "source": [
        "precision_score(y_test.argmax(axis=1),y_pred.argmax(axis=1),average='weighted')\n"
      ],
      "execution_count": 45,
      "outputs": [
        {
          "output_type": "execute_result",
          "data": {
            "text/plain": [
              "0.006060232196005033"
            ]
          },
          "metadata": {
            "tags": []
          },
          "execution_count": 45
        }
      ]
    },
    {
      "cell_type": "markdown",
      "metadata": {
        "id": "_mQRgm3p722P"
      },
      "source": [
        "### Recall Score"
      ]
    },
    {
      "cell_type": "code",
      "metadata": {
        "id": "o_8qDH9_E4Sf",
        "colab": {
          "base_uri": "https://localhost:8080/"
        },
        "outputId": "df611835-d171-4b24-98b5-4a7ca7acfdac"
      },
      "source": [
        "recall_score(y_test.argmax(axis=1),y_pred.argmax(axis=1),average='weighted')\n"
      ],
      "execution_count": 46,
      "outputs": [
        {
          "output_type": "execute_result",
          "data": {
            "text/plain": [
              "0.0076"
            ]
          },
          "metadata": {
            "tags": []
          },
          "execution_count": 46
        }
      ]
    },
    {
      "cell_type": "markdown",
      "metadata": {
        "id": "xJOBCVog75jZ"
      },
      "source": [
        "### F1-score"
      ]
    },
    {
      "cell_type": "code",
      "metadata": {
        "id": "Y7X-dYZOE4Sg",
        "colab": {
          "base_uri": "https://localhost:8080/"
        },
        "outputId": "5f49d26d-51fe-47e8-a33a-c1d67d8ba17b"
      },
      "source": [
        "f1_score(y_test.argmax(axis=1),y_pred.argmax(axis=1),average='weighted')\n"
      ],
      "execution_count": 47,
      "outputs": [
        {
          "output_type": "execute_result",
          "data": {
            "text/plain": [
              "0.005386782996642579"
            ]
          },
          "metadata": {
            "tags": []
          },
          "execution_count": 47
        }
      ]
    },
    {
      "cell_type": "markdown",
      "metadata": {
        "id": "I2qL7wZA79EQ"
      },
      "source": [
        "### Confusion Matrix"
      ]
    },
    {
      "cell_type": "code",
      "metadata": {
        "id": "OyMrM6mDE4Sg",
        "colab": {
          "base_uri": "https://localhost:8080/"
        },
        "outputId": "df50f5c8-09bd-4134-e02c-15dcf6591b38"
      },
      "source": [
        "confusion_matrix(y_test.argmax(axis=1),y_pred.argmax(axis=1),labels=list(range(10)))"
      ],
      "execution_count": 48,
      "outputs": [
        {
          "output_type": "execute_result",
          "data": {
            "text/plain": [
              "array([[  0,  53,   4, 556,  44, 202,   0,   5,  26,  90],\n",
              "       [ 12,   2,   7, 114,   0, 997,   1,   1,   1,   0],\n",
              "       [ 99, 484,  28,  59, 113, 190,  27,   4,   9,  19],\n",
              "       [ 94, 715,   2,   2, 168,   8,  13,   2,   4,   2],\n",
              "       [ 76,  45, 330, 129,   1, 383,  10,   2,   5,   1],\n",
              "       [ 40, 569,  14,  15, 169,  42,   9,  11,   5,  18],\n",
              "       [  1, 134, 114, 587,  12,  87,   0,   3,   1,  19],\n",
              "       [ 66, 152, 296,  88,   3, 409,  11,   0,   3,   0],\n",
              "       [ 97, 577,  47,  81,   6, 117,  15,  23,   1,  10],\n",
              "       [105, 481, 369,  20,   5,  27,   2,   0,   0,   0]])"
            ]
          },
          "metadata": {
            "tags": []
          },
          "execution_count": 48
        }
      ]
    },
    {
      "cell_type": "markdown",
      "metadata": {
        "id": "fpGFgO4G8AIH"
      },
      "source": [
        "### Plot"
      ]
    },
    {
      "cell_type": "code",
      "metadata": {
        "id": "lyIukavwnr9H",
        "colab": {
          "base_uri": "https://localhost:8080/",
          "height": 435
        },
        "outputId": "2333be41-9da0-4825-b52d-2a956da99726"
      },
      "source": [
        "acc = history.history['accuracy']\n",
        "val_acc = history.history['val_accuracy']\n",
        "loss = history.history['loss']\n",
        "val_loss = history.history['val_loss']\n",
        "\n",
        "epochs_range = range(20)\n",
        "\n",
        "plt.figure(figsize=(15, 15))\n",
        "plt.subplot(2, 2, 1)\n",
        "plt.plot(epochs_range, acc, label='Training Accuracy')\n",
        "plt.plot(epochs_range, val_acc, label='Validation Accuracy')\n",
        "plt.legend(loc='lower right')\n",
        "plt.title('Training and Validation Accuracy')\n",
        "\n",
        "plt.subplot(2, 2, 2)\n",
        "plt.plot(epochs_range, loss, label='Training Loss')\n",
        "plt.plot(epochs_range, val_loss, label='Validation Loss')\n",
        "plt.legend(loc='upper right')\n",
        "plt.title('Training and Validation Loss')\n",
        "plt.savefig(\"/content/content/MyDrive/Data/IITMIDAS/mnistTask3/Task1 test/train/task232.png\")\n",
        "plt.show()"
      ],
      "execution_count": 49,
      "outputs": [
        {
          "output_type": "display_data",
          "data": {
            "image/png": "[encoded data removed]",
            "text/plain": [
              "<Figure size 1080x1080 with 2 Axes>"
            ]
          },
          "metadata": {
            "tags": [],
            "needs_background": "light"
          }
        }
      ]
    },
    {
      "cell_type": "markdown",
      "metadata": {
        "id": "ecUvA9W2W6rc"
      },
      "source": [
        "# Comment\n",
        "### In this part we can observe that using the misclassified mnistTask3 data to train and predict the test classes of the standard Mnist fails miserably,even though the model has been pre-trained with images from part 1(also as the pre training data is not much large)"
      ]
    },
    {
      "cell_type": "markdown",
      "metadata": {
        "id": "RhK01600LuSZ"
      },
      "source": [
        "## Part3 case 3: \n",
        "\n",
        "### Pre-training a model using the mnistTask3 data and the training and testing with the Mnist data\n"
      ]
    },
    {
      "cell_type": "markdown",
      "metadata": {
        "id": "-bsTccYOXykM"
      },
      "source": [
        "## Pre-training with the mnistask3 dataset"
      ]
    },
    {
      "cell_type": "code",
      "metadata": {
        "id": "FrcalgcG5Fq-"
      },
      "source": [
        "model=get_model((28,28),10,0.001)"
      ],
      "execution_count": 50,
      "outputs": []
    },
    {
      "cell_type": "code",
      "metadata": {
        "id": "pQV0lnug5FuV",
        "colab": {
          "base_uri": "https://localhost:8080/"
        },
        "outputId": "09944305-c268-43fb-ed57-4dd655c0a5f9"
      },
      "source": [
        "checkpoint = ModelCheckpoint(filepath=\"/content/content/MyDrive/Data/IITMIDAS/mnistTask3/Task1 test/train/checkpoint8.hdf5\", monitor='val_accuracy', verbose=1, save_best_only=True, mode='max')\n",
        "history = model.fit(train_images,train_labels,epochs = 20,validation_data = (x_test,y_test),batch_size=500,shuffle=True,callbacks=[checkpoint])"
      ],
      "execution_count": 51,
      "outputs": [
        {
          "output_type": "stream",
          "text": [
            "Epoch 1/20\n",
            "121/121 [==============================] - 139s 1s/step - loss: 2.3024 - accuracy: 0.1032 - val_loss: 2.6857 - val_accuracy: 8.0000e-04\n",
            "\n",
            "Epoch 00001: val_accuracy improved from -inf to 0.00080, saving model to /content/content/MyDrive/Data/IITMIDAS/mnistTask3/Task1 test/train/checkpoint8.hdf5\n",
            "Epoch 2/20\n",
            "121/121 [==============================] - 139s 1s/step - loss: 2.2772 - accuracy: 0.1098 - val_loss: 3.3229 - val_accuracy: 9.0000e-04\n",
            "\n",
            "Epoch 00002: val_accuracy improved from 0.00080 to 0.00090, saving model to /content/content/MyDrive/Data/IITMIDAS/mnistTask3/Task1 test/train/checkpoint8.hdf5\n",
            "Epoch 3/20\n",
            "121/121 [==============================] - 139s 1s/step - loss: 2.2489 - accuracy: 0.1144 - val_loss: 3.9282 - val_accuracy: 3.0000e-04\n",
            "\n",
            "Epoch 00003: val_accuracy did not improve from 0.00090\n",
            "Epoch 4/20\n",
            "121/121 [==============================] - 139s 1s/step - loss: 2.2330 - accuracy: 0.1188 - val_loss: 4.4205 - val_accuracy: 1.0000e-04\n",
            "\n",
            "Epoch 00004: val_accuracy did not improve from 0.00090\n",
            "Epoch 5/20\n",
            "121/121 [==============================] - 138s 1s/step - loss: 2.2256 - accuracy: 0.1176 - val_loss: 4.6087 - val_accuracy: 3.0000e-04\n",
            "\n",
            "Epoch 00005: val_accuracy did not improve from 0.00090\n",
            "Epoch 6/20\n",
            "121/121 [==============================] - 138s 1s/step - loss: 2.2217 - accuracy: 0.1201 - val_loss: 4.7068 - val_accuracy: 2.0000e-04\n",
            "\n",
            "Epoch 00006: val_accuracy did not improve from 0.00090\n",
            "Epoch 7/20\n",
            "121/121 [==============================] - 138s 1s/step - loss: 2.2179 - accuracy: 0.1202 - val_loss: 5.1231 - val_accuracy: 3.0000e-04\n",
            "\n",
            "Epoch 00007: val_accuracy did not improve from 0.00090\n",
            "Epoch 8/20\n",
            "121/121 [==============================] - 138s 1s/step - loss: 2.2173 - accuracy: 0.1205 - val_loss: 5.2466 - val_accuracy: 1.0000e-04\n",
            "\n",
            "Epoch 00008: val_accuracy did not improve from 0.00090\n",
            "Epoch 9/20\n",
            "121/121 [==============================] - 138s 1s/step - loss: 2.2137 - accuracy: 0.1253 - val_loss: 5.5209 - val_accuracy: 3.0000e-04\n",
            "\n",
            "Epoch 00009: val_accuracy did not improve from 0.00090\n",
            "Epoch 10/20\n",
            "121/121 [==============================] - 138s 1s/step - loss: 2.2083 - accuracy: 0.1275 - val_loss: 5.5919 - val_accuracy: 3.0000e-04\n",
            "\n",
            "Epoch 00010: val_accuracy did not improve from 0.00090\n",
            "Epoch 11/20\n",
            "121/121 [==============================] - 139s 1s/step - loss: 2.2103 - accuracy: 0.1279 - val_loss: 5.6210 - val_accuracy: 4.0000e-04\n",
            "\n",
            "Epoch 00011: val_accuracy did not improve from 0.00090\n",
            "Epoch 12/20\n",
            "121/121 [==============================] - 138s 1s/step - loss: 2.2052 - accuracy: 0.1297 - val_loss: 5.9094 - val_accuracy: 4.0000e-04\n",
            "\n",
            "Epoch 00012: val_accuracy did not improve from 0.00090\n",
            "Epoch 13/20\n",
            "121/121 [==============================] - 139s 1s/step - loss: 2.2016 - accuracy: 0.1318 - val_loss: 5.6964 - val_accuracy: 7.0000e-04\n",
            "\n",
            "Epoch 00013: val_accuracy did not improve from 0.00090\n",
            "Epoch 14/20\n",
            "121/121 [==============================] - 138s 1s/step - loss: 2.1996 - accuracy: 0.1365 - val_loss: 5.8797 - val_accuracy: 6.0000e-04\n",
            "\n",
            "Epoch 00014: val_accuracy did not improve from 0.00090\n",
            "Epoch 15/20\n",
            "121/121 [==============================] - 139s 1s/step - loss: 2.2011 - accuracy: 0.1349 - val_loss: 6.1903 - val_accuracy: 6.0000e-04\n",
            "\n",
            "Epoch 00015: val_accuracy did not improve from 0.00090\n",
            "Epoch 16/20\n",
            "121/121 [==============================] - 138s 1s/step - loss: 2.1951 - accuracy: 0.1404 - val_loss: 6.0410 - val_accuracy: 8.0000e-04\n",
            "\n",
            "Epoch 00016: val_accuracy did not improve from 0.00090\n",
            "Epoch 17/20\n",
            "121/121 [==============================] - 138s 1s/step - loss: 2.1902 - accuracy: 0.1405 - val_loss: 5.8743 - val_accuracy: 5.0000e-04\n",
            "\n",
            "Epoch 00017: val_accuracy did not improve from 0.00090\n",
            "Epoch 18/20\n",
            "121/121 [==============================] - 138s 1s/step - loss: 2.1915 - accuracy: 0.1426 - val_loss: 6.6110 - val_accuracy: 3.0000e-04\n",
            "\n",
            "Epoch 00018: val_accuracy did not improve from 0.00090\n",
            "Epoch 19/20\n",
            "121/121 [==============================] - 138s 1s/step - loss: 2.1852 - accuracy: 0.1470 - val_loss: 6.0547 - val_accuracy: 8.0000e-04\n",
            "\n",
            "Epoch 00019: val_accuracy did not improve from 0.00090\n",
            "Epoch 20/20\n",
            "121/121 [==============================] - 138s 1s/step - loss: 2.1825 - accuracy: 0.1491 - val_loss: 6.2366 - val_accuracy: 9.0000e-04\n",
            "\n",
            "Epoch 00020: val_accuracy did not improve from 0.00090\n"
          ],
          "name": "stdout"
        }
      ]
    },
    {
      "cell_type": "markdown",
      "metadata": {
        "id": "BOye31ETX3zj"
      },
      "source": [
        "## Training and validating the pre-trained model using the standard train and test split of the Mnist"
      ]
    },
    {
      "cell_type": "code",
      "metadata": {
        "id": "RzeXJYq-5jyg"
      },
      "source": [
        "model = load_model(\"/content/content/MyDrive/Data/IITMIDAS/mnistTask3/Task1 test/train/checkpoint8.hdf5\")"
      ],
      "execution_count": 52,
      "outputs": []
    },
    {
      "cell_type": "code",
      "metadata": {
        "id": "wjuTVMAq5Fx8",
        "colab": {
          "base_uri": "https://localhost:8080/"
        },
        "outputId": "c20bcfe8-0435-43bf-c09f-62ccad604d96"
      },
      "source": [
        "checkpoint = ModelCheckpoint(filepath=\"/content/content/MyDrive/Data/IITMIDAS/mnistTask3/Task1 test/train/checkpoint9.hdf5\", monitor='val_accuracy', verbose=1, save_best_only=True, mode='max')\n",
        "history = model.fit(x_train,y_train,epochs = 20,validation_data = (x_test,y_test),batch_size=500,shuffle=True,callbacks=[checkpoint])"
      ],
      "execution_count": 53,
      "outputs": [
        {
          "output_type": "stream",
          "text": [
            "Epoch 1/20\n",
            "120/120 [==============================] - 138s 1s/step - loss: 0.9903 - accuracy: 0.6532 - val_loss: 0.1271 - val_accuracy: 0.9629\n",
            "\n",
            "Epoch 00001: val_accuracy improved from -inf to 0.96290, saving model to /content/content/MyDrive/Data/IITMIDAS/mnistTask3/Task1 test/train/checkpoint9.hdf5\n",
            "Epoch 2/20\n",
            "120/120 [==============================] - 138s 1s/step - loss: 0.1274 - accuracy: 0.9609 - val_loss: 0.0629 - val_accuracy: 0.9817\n",
            "\n",
            "Epoch 00002: val_accuracy improved from 0.96290 to 0.98170, saving model to /content/content/MyDrive/Data/IITMIDAS/mnistTask3/Task1 test/train/checkpoint9.hdf5\n",
            "Epoch 3/20\n",
            "120/120 [==============================] - 137s 1s/step - loss: 0.0849 - accuracy: 0.9735 - val_loss: 0.0488 - val_accuracy: 0.9855\n",
            "\n",
            "Epoch 00003: val_accuracy improved from 0.98170 to 0.98550, saving model to /content/content/MyDrive/Data/IITMIDAS/mnistTask3/Task1 test/train/checkpoint9.hdf5\n",
            "Epoch 4/20\n",
            "120/120 [==============================] - 137s 1s/step - loss: 0.0673 - accuracy: 0.9790 - val_loss: 0.0464 - val_accuracy: 0.9861\n",
            "\n",
            "Epoch 00004: val_accuracy improved from 0.98550 to 0.98610, saving model to /content/content/MyDrive/Data/IITMIDAS/mnistTask3/Task1 test/train/checkpoint9.hdf5\n",
            "Epoch 5/20\n",
            "120/120 [==============================] - 137s 1s/step - loss: 0.0569 - accuracy: 0.9820 - val_loss: 0.0355 - val_accuracy: 0.9890\n",
            "\n",
            "Epoch 00005: val_accuracy improved from 0.98610 to 0.98900, saving model to /content/content/MyDrive/Data/IITMIDAS/mnistTask3/Task1 test/train/checkpoint9.hdf5\n",
            "Epoch 6/20\n",
            "120/120 [==============================] - 138s 1s/step - loss: 0.0515 - accuracy: 0.9838 - val_loss: 0.0337 - val_accuracy: 0.9890\n",
            "\n",
            "Epoch 00006: val_accuracy did not improve from 0.98900\n",
            "Epoch 7/20\n",
            "120/120 [==============================] - 137s 1s/step - loss: 0.0463 - accuracy: 0.9850 - val_loss: 0.0319 - val_accuracy: 0.9905\n",
            "\n",
            "Epoch 00007: val_accuracy improved from 0.98900 to 0.99050, saving model to /content/content/MyDrive/Data/IITMIDAS/mnistTask3/Task1 test/train/checkpoint9.hdf5\n",
            "Epoch 8/20\n",
            "120/120 [==============================] - 137s 1s/step - loss: 0.0424 - accuracy: 0.9863 - val_loss: 0.0294 - val_accuracy: 0.9907\n",
            "\n",
            "Epoch 00008: val_accuracy improved from 0.99050 to 0.99070, saving model to /content/content/MyDrive/Data/IITMIDAS/mnistTask3/Task1 test/train/checkpoint9.hdf5\n",
            "Epoch 9/20\n",
            "120/120 [==============================] - 138s 1s/step - loss: 0.0378 - accuracy: 0.9885 - val_loss: 0.0282 - val_accuracy: 0.9916\n",
            "\n",
            "Epoch 00009: val_accuracy improved from 0.99070 to 0.99160, saving model to /content/content/MyDrive/Data/IITMIDAS/mnistTask3/Task1 test/train/checkpoint9.hdf5\n",
            "Epoch 10/20\n",
            "120/120 [==============================] - 138s 1s/step - loss: 0.0352 - accuracy: 0.9886 - val_loss: 0.0317 - val_accuracy: 0.9896\n",
            "\n",
            "Epoch 00010: val_accuracy did not improve from 0.99160\n",
            "Epoch 11/20\n",
            "120/120 [==============================] - 138s 1s/step - loss: 0.0350 - accuracy: 0.9887 - val_loss: 0.0334 - val_accuracy: 0.9895\n",
            "\n",
            "Epoch 00011: val_accuracy did not improve from 0.99160\n",
            "Epoch 12/20\n",
            "120/120 [==============================] - 138s 1s/step - loss: 0.0351 - accuracy: 0.9882 - val_loss: 0.0249 - val_accuracy: 0.9922\n",
            "\n",
            "Epoch 00012: val_accuracy improved from 0.99160 to 0.99220, saving model to /content/content/MyDrive/Data/IITMIDAS/mnistTask3/Task1 test/train/checkpoint9.hdf5\n",
            "Epoch 13/20\n",
            "120/120 [==============================] - 138s 1s/step - loss: 0.0313 - accuracy: 0.9897 - val_loss: 0.0253 - val_accuracy: 0.9913\n",
            "\n",
            "Epoch 00013: val_accuracy did not improve from 0.99220\n",
            "Epoch 14/20\n",
            "120/120 [==============================] - 137s 1s/step - loss: 0.0294 - accuracy: 0.9905 - val_loss: 0.0270 - val_accuracy: 0.9912\n",
            "\n",
            "Epoch 00014: val_accuracy did not improve from 0.99220\n",
            "Epoch 15/20\n",
            "120/120 [==============================] - 138s 1s/step - loss: 0.0278 - accuracy: 0.9913 - val_loss: 0.0276 - val_accuracy: 0.9907\n",
            "\n",
            "Epoch 00015: val_accuracy did not improve from 0.99220\n",
            "Epoch 16/20\n",
            "120/120 [==============================] - 137s 1s/step - loss: 0.0269 - accuracy: 0.9910 - val_loss: 0.0271 - val_accuracy: 0.9905\n",
            "\n",
            "Epoch 00016: val_accuracy did not improve from 0.99220\n",
            "Epoch 17/20\n",
            "120/120 [==============================] - 138s 1s/step - loss: 0.0263 - accuracy: 0.9916 - val_loss: 0.0239 - val_accuracy: 0.9921\n",
            "\n",
            "Epoch 00017: val_accuracy did not improve from 0.99220\n",
            "Epoch 18/20\n",
            "120/120 [==============================] - 138s 1s/step - loss: 0.0245 - accuracy: 0.9923 - val_loss: 0.0276 - val_accuracy: 0.9923\n",
            "\n",
            "Epoch 00018: val_accuracy improved from 0.99220 to 0.99230, saving model to /content/content/MyDrive/Data/IITMIDAS/mnistTask3/Task1 test/train/checkpoint9.hdf5\n",
            "Epoch 19/20\n",
            "120/120 [==============================] - 138s 1s/step - loss: 0.0235 - accuracy: 0.9926 - val_loss: 0.0223 - val_accuracy: 0.9919\n",
            "\n",
            "Epoch 00019: val_accuracy did not improve from 0.99230\n",
            "Epoch 20/20\n",
            "120/120 [==============================] - 138s 1s/step - loss: 0.0227 - accuracy: 0.9924 - val_loss: 0.0209 - val_accuracy: 0.9932\n",
            "\n",
            "Epoch 00020: val_accuracy improved from 0.99230 to 0.99320, saving model to /content/content/MyDrive/Data/IITMIDAS/mnistTask3/Task1 test/train/checkpoint9.hdf5\n"
          ],
          "name": "stdout"
        }
      ]
    },
    {
      "cell_type": "code",
      "metadata": {
        "id": "qCkj1hUjFAnp"
      },
      "source": [
        "model = load_model(\"/content/content/MyDrive/Data/IITMIDAS/mnistTask3/Task1 test/train/checkpoint9.hdf5\")"
      ],
      "execution_count": 54,
      "outputs": []
    },
    {
      "cell_type": "markdown",
      "metadata": {
        "id": "aoMRlheUaXHa"
      },
      "source": [
        "#### Making prediction"
      ]
    },
    {
      "cell_type": "code",
      "metadata": {
        "id": "PDw9Anj7FAnp"
      },
      "source": [
        "y_pred=model.predict(x_test)"
      ],
      "execution_count": 55,
      "outputs": []
    },
    {
      "cell_type": "markdown",
      "metadata": {
        "id": "lH07LWsb80zT"
      },
      "source": [
        "### Accuracy Score"
      ]
    },
    {
      "cell_type": "code",
      "metadata": {
        "colab": {
          "base_uri": "https://localhost:8080/"
        },
        "id": "jit27tnrFAnq",
        "outputId": "9e1a6207-d2cf-4f0f-c4fe-409717cb37e6"
      },
      "source": [
        "accuracy_score(y_test.argmax(axis=1),y_pred.argmax(axis=1))"
      ],
      "execution_count": 56,
      "outputs": [
        {
          "output_type": "execute_result",
          "data": {
            "text/plain": [
              "0.9932"
            ]
          },
          "metadata": {
            "tags": []
          },
          "execution_count": 56
        }
      ]
    },
    {
      "cell_type": "markdown",
      "metadata": {
        "id": "SNMsc3T683nU"
      },
      "source": [
        "### Precision Score"
      ]
    },
    {
      "cell_type": "code",
      "metadata": {
        "colab": {
          "base_uri": "https://localhost:8080/"
        },
        "id": "ge2fealqFAnq",
        "outputId": "2f16ebe3-4de8-4653-b0b2-3e5fcef04016"
      },
      "source": [
        "precision_score(y_test.argmax(axis=1),y_pred.argmax(axis=1),average='weighted')\n"
      ],
      "execution_count": 57,
      "outputs": [
        {
          "output_type": "execute_result",
          "data": {
            "text/plain": [
              "0.9932131690775486"
            ]
          },
          "metadata": {
            "tags": []
          },
          "execution_count": 57
        }
      ]
    },
    {
      "cell_type": "markdown",
      "metadata": {
        "id": "ZW1OmfYv9A14"
      },
      "source": [
        "### Recall Score"
      ]
    },
    {
      "cell_type": "code",
      "metadata": {
        "colab": {
          "base_uri": "https://localhost:8080/"
        },
        "id": "MscJGS5SFAnq",
        "outputId": "1f93fb30-3bd2-411f-eefc-fab4e0e8249e"
      },
      "source": [
        "recall_score(y_test.argmax(axis=1),y_pred.argmax(axis=1),average='weighted')\n"
      ],
      "execution_count": 58,
      "outputs": [
        {
          "output_type": "execute_result",
          "data": {
            "text/plain": [
              "0.9932"
            ]
          },
          "metadata": {
            "tags": []
          },
          "execution_count": 58
        }
      ]
    },
    {
      "cell_type": "markdown",
      "metadata": {
        "id": "ayOvJTAG9DXU"
      },
      "source": [
        "### F1 Score"
      ]
    },
    {
      "cell_type": "code",
      "metadata": {
        "colab": {
          "base_uri": "https://localhost:8080/"
        },
        "id": "2cMjtUcbFAnr",
        "outputId": "d385fb99-5d4b-446c-807d-15c1692a5d27"
      },
      "source": [
        "f1_score(y_test.argmax(axis=1),y_pred.argmax(axis=1),average='weighted')\n"
      ],
      "execution_count": 59,
      "outputs": [
        {
          "output_type": "execute_result",
          "data": {
            "text/plain": [
              "0.9931947629511103"
            ]
          },
          "metadata": {
            "tags": []
          },
          "execution_count": 59
        }
      ]
    },
    {
      "cell_type": "markdown",
      "metadata": {
        "id": "lOOJKJ8a9GEb"
      },
      "source": [
        "### Confusion Score"
      ]
    },
    {
      "cell_type": "code",
      "metadata": {
        "colab": {
          "base_uri": "https://localhost:8080/"
        },
        "id": "zI2ENaAvFAnr",
        "outputId": "b9477516-3239-4e67-af44-89308e636186"
      },
      "source": [
        "confusion_matrix(y_test.argmax(axis=1),y_pred.argmax(axis=1),labels=list(range(10)))"
      ],
      "execution_count": 60,
      "outputs": [
        {
          "output_type": "execute_result",
          "data": {
            "text/plain": [
              "array([[ 978,    0,    0,    0,    0,    0,    0,    1,    1,    0],\n",
              "       [   1, 1132,    0,    1,    0,    0,    1,    0,    0,    0],\n",
              "       [   1,    1, 1027,    0,    0,    0,    0,    2,    1,    0],\n",
              "       [   0,    0,    0, 1006,    0,    2,    0,    2,    0,    0],\n",
              "       [   0,    0,    1,    0,  977,    0,    1,    0,    2,    1],\n",
              "       [   1,    0,    1,    5,    0,  883,    1,    1,    0,    0],\n",
              "       [   4,    2,    0,    0,    0,    2,  948,    0,    2,    0],\n",
              "       [   0,    2,    4,    0,    0,    0,    0, 1021,    0,    1],\n",
              "       [   0,    0,    1,    0,    0,    1,    0,    1,  971,    0],\n",
              "       [   0,    0,    1,    1,    9,    2,    1,    3,    3,  989]])"
            ]
          },
          "metadata": {
            "tags": []
          },
          "execution_count": 60
        }
      ]
    },
    {
      "cell_type": "code",
      "metadata": {
        "colab": {
          "base_uri": "https://localhost:8080/",
          "height": 435
        },
        "id": "8-sGaZI75GPj",
        "outputId": "06d42d27-9b99-4738-9358-7526a655ab5c"
      },
      "source": [
        "acc = history.history['accuracy']\n",
        "val_acc = history.history['val_accuracy']\n",
        "loss = history.history['loss']\n",
        "val_loss = history.history['val_loss']\n",
        "\n",
        "epochs_range = range(20)\n",
        "\n",
        "plt.figure(figsize=(15, 15))\n",
        "plt.subplot(2, 2, 1)\n",
        "plt.plot(epochs_range, acc, label='Training Accuracy')\n",
        "plt.plot(epochs_range, val_acc, label='Validation Accuracy')\n",
        "plt.legend(loc='lower right')\n",
        "plt.title('Training and Validation Accuracy')\n",
        "\n",
        "plt.subplot(2, 2, 2)\n",
        "plt.plot(epochs_range, loss, label='Training Loss')\n",
        "plt.plot(epochs_range, val_loss, label='Validation Loss')\n",
        "plt.legend(loc='upper right')\n",
        "plt.title('Training and Validation Loss')\n",
        "plt.savefig(\"/content/content/MyDrive/Data/IITMIDAS/mnistTask3/Task1 test/train/task233.png\")\n",
        "plt.show()"
      ],
      "execution_count": 61,
      "outputs": [
        {
          "output_type": "display_data",
          "data": {
            "image/png": "[encoded data removed]",
            "text/plain": [
              "<Figure size 1080x1080 with 2 Axes>"
            ]
          },
          "metadata": {
            "tags": [],
            "needs_background": "light"
          }
        }
      ]
    },
    {
      "cell_type": "markdown",
      "metadata": {
        "id": "lm1cF0HlLGVq"
      },
      "source": [
        "# Comment\n",
        "### In this part the performance using standard mnist fit and predict ( even though of pre-trained with misclassified minsitTask3 data  persists). This is due to the large number of training examples per class in the standard Mnist data."
      ]
    },
    {
      "cell_type": "code",
      "metadata": {
        "id": "rBA9vUNRnsAa"
      },
      "source": [
        ""
      ],
      "execution_count": 61,
      "outputs": []
    },
    {
      "cell_type": "code",
      "metadata": {
        "id": "thaO06T9nsD-"
      },
      "source": [
        ""
      ],
      "execution_count": null,
      "outputs": []
    },
    {
      "cell_type": "code",
      "metadata": {
        "id": "stP_Vc69nsHW"
      },
      "source": [
        ""
      ],
      "execution_count": null,
      "outputs": []
    }
  ]
}